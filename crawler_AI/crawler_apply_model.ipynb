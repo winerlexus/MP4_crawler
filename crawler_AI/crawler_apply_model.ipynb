{
 "cells": [
  {
   "cell_type": "code",
   "execution_count": 11,
   "metadata": {},
   "outputs": [],
   "source": [
    "import pickle\n",
    "import numpy as np\n",
    "import pandas as pd\n",
    "import requests\n",
    "import pprint\n",
    "import datetime\n",
    "import dateutil.parser\n"
   ]
  },
  {
   "cell_type": "code",
   "execution_count": 3,
   "metadata": {},
   "outputs": [],
   "source": [
    "from youtube_api_crawler import crawler_api as crawler"
   ]
  },
  {
   "cell_type": "code",
   "execution_count": 4,
   "metadata": {},
   "outputs": [
    {
     "data": {
      "text/plain": [
       "RandomForestClassifier(bootstrap=True, class_weight=None, criterion='gini',\n",
       "            max_depth=None, max_features=3, max_leaf_nodes=None,\n",
       "            min_impurity_decrease=0.0, min_impurity_split=None,\n",
       "            min_samples_leaf=1, min_samples_split=2,\n",
       "            min_weight_fraction_leaf=0.0, n_estimators=10, n_jobs=1,\n",
       "            oob_score=False, random_state=None, verbose=0,\n",
       "            warm_start=False)"
      ]
     },
     "execution_count": 4,
     "metadata": {},
     "output_type": "execute_result"
    }
   ],
   "source": [
    "### load random_forest\n",
    "model = pickle.load(open('RandomForest_classifier.sav', 'rb'))\n",
    "model\n"
   ]
  },
  {
   "cell_type": "code",
   "execution_count": 5,
   "metadata": {},
   "outputs": [
    {
     "data": {
      "text/plain": [
       "CountVectorizer(analyzer='word', binary=False, decode_error='strict',\n",
       "        dtype=<class 'numpy.int64'>, encoding='utf-8', input='content',\n",
       "        lowercase=True, max_df=1.0, max_features=8, min_df=1,\n",
       "        ngram_range=(1, 3), preprocessor=None,\n",
       "        stop_words=frozenset({'its', 'same', 'bill', 'should', 'whose', 'when', 'sixty', 'very', 'under', 'becomes', 'forty', 'onto', 'twelve', 'something', 'though', 'every', 'whereas', 'put', 'across', 'some', 'which', 'one', 'yourself', 'what', 'how', 'toward', 'everything', 'beside', 'seem', 'into', 'an...'fill', 'often', 'thin', 'whoever', 'ie', 'a', 'was', 'someone', 'bottom', 'once', 'always', 'had'}),\n",
       "        strip_accents=None, token_pattern='(?u)\\\\b\\\\w\\\\w+\\\\b',\n",
       "        tokenizer=None, vocabulary=None)"
      ]
     },
     "execution_count": 5,
     "metadata": {},
     "output_type": "execute_result"
    }
   ],
   "source": [
    "### load sentiment model\n",
    "count_vectorizer = pickle.load(open('sentiment_countvectorizer.sav', 'rb'))\n",
    "count_vectorizer"
   ]
  },
  {
   "cell_type": "code",
   "execution_count": 6,
   "metadata": {},
   "outputs": [
    {
     "data": {
      "text/plain": [
       "['audio',\n",
       " 'music',\n",
       " 'music video',\n",
       " 'official',\n",
       " 'official music',\n",
       " 'official music video',\n",
       " 'official video',\n",
       " 'video']"
      ]
     },
     "execution_count": 6,
     "metadata": {},
     "output_type": "execute_result"
    }
   ],
   "source": [
    "count_vectorizer.get_feature_names()"
   ]
  },
  {
   "cell_type": "code",
   "execution_count": 8,
   "metadata": {
    "scrolled": true
   },
   "outputs": [
    {
     "data": {
      "text/plain": [
       "{'kind': 'youtube#searchListResponse',\n",
       " 'etag': '\"XI7nbFXulYBIpL0ayR_gDh3eu1k/DhfGJD-wFqiF4qeZ9AEB2UG3p3I\"',\n",
       " 'nextPageToken': 'CAUQAA',\n",
       " 'regionCode': 'US',\n",
       " 'pageInfo': {'totalResults': 1000000, 'resultsPerPage': 5},\n",
       " 'items': [{'kind': 'youtube#searchResult',\n",
       "   'etag': '\"XI7nbFXulYBIpL0ayR_gDh3eu1k/GE8sRWM116xl-vqEcV_CddYNI9E\"',\n",
       "   'id': {'kind': 'youtube#video', 'videoId': 'AX3Bsiq-13k'},\n",
       "   'snippet': {'publishedAt': '2018-10-18T22:56:57.000Z',\n",
       "    'channelId': 'UC-J-KZfRV8c13fOCkhXdLiQ',\n",
       "    'title': 'Dua Lipa & BLACKPINK - Kiss and Make Up (Official Audio)',\n",
       "    'description': 'Dua Lipa & BLACKPINK - Kiss and Make Up (Official Audio) The Complete Edition is here!! https://dualipa.co/completeedition Follow me online: ...',\n",
       "    'thumbnails': {'default': {'url': 'https://i.ytimg.com/vi/AX3Bsiq-13k/default.jpg',\n",
       "      'width': 120,\n",
       "      'height': 90},\n",
       "     'medium': {'url': 'https://i.ytimg.com/vi/AX3Bsiq-13k/mqdefault.jpg',\n",
       "      'width': 320,\n",
       "      'height': 180},\n",
       "     'high': {'url': 'https://i.ytimg.com/vi/AX3Bsiq-13k/hqdefault.jpg',\n",
       "      'width': 480,\n",
       "      'height': 360}},\n",
       "    'channelTitle': 'Dua Lipa',\n",
       "    'liveBroadcastContent': 'none'}},\n",
       "  {'kind': 'youtube#searchResult',\n",
       "   'etag': '\"XI7nbFXulYBIpL0ayR_gDh3eu1k/z1GvVh94QCdyi_zDM_eVuP3v8uM\"',\n",
       "   'id': {'kind': 'youtube#video', 'videoId': 'VHEtmGVoOaI'},\n",
       "   'snippet': {'publishedAt': '2018-10-19T07:51:33.000Z',\n",
       "    'channelId': 'UC2EnwLe6j4GovEb8N3WZXBA',\n",
       "    'title': \"(OFFICIAL AUDIO) DUA LIPA & BLACKPINK - 'KISS AND MAKE UP' Lyrics [Color Coded_Han_Rom_Eng]\",\n",
       "    'description': \"By - Hamtaro Gasa Thanks for watching! Please LIKE and SHARE this video! Don't forget to SUBSCRIBE our channel. ALL RIGHTS ADMINISTERED by WMG ...\",\n",
       "    'thumbnails': {'default': {'url': 'https://i.ytimg.com/vi/VHEtmGVoOaI/default.jpg',\n",
       "      'width': 120,\n",
       "      'height': 90},\n",
       "     'medium': {'url': 'https://i.ytimg.com/vi/VHEtmGVoOaI/mqdefault.jpg',\n",
       "      'width': 320,\n",
       "      'height': 180},\n",
       "     'high': {'url': 'https://i.ytimg.com/vi/VHEtmGVoOaI/hqdefault.jpg',\n",
       "      'width': 480,\n",
       "      'height': 360}},\n",
       "    'channelTitle': 'Hamtaro Gasa',\n",
       "    'liveBroadcastContent': 'none'}},\n",
       "  {'kind': 'youtube#searchResult',\n",
       "   'etag': '\"XI7nbFXulYBIpL0ayR_gDh3eu1k/V2mLw2VJIiwnPG-M-Zel14PtrA0\"',\n",
       "   'id': {'kind': 'youtube#video', 'videoId': 'BF0tVtiPhnE'},\n",
       "   'snippet': {'publishedAt': '2018-10-23T12:34:20.000Z',\n",
       "    'channelId': 'UCBFtyKISjlXCz9sFvyS-few',\n",
       "    'title': 'Dua Lipa & BLACKPINK - ‘Kiss and Make Up’ FMV',\n",
       "    'description': \"Dua Lipa & BLACKPINK(블랙핑크) - 'Kiss and Make Up' Fan-made MV (Music Video) *English lyrics + 17 other languages are available --TO ADD ...\",\n",
       "    'thumbnails': {'default': {'url': 'https://i.ytimg.com/vi/BF0tVtiPhnE/default.jpg',\n",
       "      'width': 120,\n",
       "      'height': 90},\n",
       "     'medium': {'url': 'https://i.ytimg.com/vi/BF0tVtiPhnE/mqdefault.jpg',\n",
       "      'width': 320,\n",
       "      'height': 180},\n",
       "     'high': {'url': 'https://i.ytimg.com/vi/BF0tVtiPhnE/hqdefault.jpg',\n",
       "      'width': 480,\n",
       "      'height': 360}},\n",
       "    'channelTitle': 'VEM',\n",
       "    'liveBroadcastContent': 'none'}},\n",
       "  {'kind': 'youtube#searchResult',\n",
       "   'etag': '\"XI7nbFXulYBIpL0ayR_gDh3eu1k/fcv1UBT7GznI0GGDQA2Bjqo2cB4\"',\n",
       "   'id': {'kind': 'youtube#video', 'videoId': 'CDrwgg5f7Us'},\n",
       "   'snippet': {'publishedAt': '2018-12-08T18:33:48.000Z',\n",
       "    'channelId': 'UCsVcseUYbYjldc-XgcsiEbg',\n",
       "    'title': 'Dua Lipa Talks BLACKPINK Collaboration \"Kiss and Make Up\" | Billboard',\n",
       "    'description': 'Dua Lipa reacts to her 2019 Grammy nomination and talks about how \"Kiss and Make Up\" collaboration with Blackpink came about on the red carpet at Jingle ...',\n",
       "    'thumbnails': {'default': {'url': 'https://i.ytimg.com/vi/CDrwgg5f7Us/default.jpg',\n",
       "      'width': 120,\n",
       "      'height': 90},\n",
       "     'medium': {'url': 'https://i.ytimg.com/vi/CDrwgg5f7Us/mqdefault.jpg',\n",
       "      'width': 320,\n",
       "      'height': 180},\n",
       "     'high': {'url': 'https://i.ytimg.com/vi/CDrwgg5f7Us/hqdefault.jpg',\n",
       "      'width': 480,\n",
       "      'height': 360}},\n",
       "    'channelTitle': 'Billboard',\n",
       "    'liveBroadcastContent': 'none'}},\n",
       "  {'kind': 'youtube#searchResult',\n",
       "   'etag': '\"XI7nbFXulYBIpL0ayR_gDh3eu1k/jKoewtp8DZpZHRgWDkjBMC9SBxc\"',\n",
       "   'id': {'kind': 'youtube#video', 'videoId': 'd5KaMPsRKe0'},\n",
       "   'snippet': {'publishedAt': '2018-10-18T16:01:00.000Z',\n",
       "    'channelId': 'UCUQLmK9DMN2Kjs_uMZGtUGg',\n",
       "    'title': 'Dua Lipa X BLACKPINK - Kiss and Make Up Lyric / Karaoke video | 6CAST',\n",
       "    'description': \"Dua Lipa X BLACKPINK It's finally out!! KISS AND MAKE UP - Dua Lipa's first ever collaboration with Korea's BLACKPINK (블랙핑크)!! We've waited a long time ...\",\n",
       "    'thumbnails': {'default': {'url': 'https://i.ytimg.com/vi/d5KaMPsRKe0/default.jpg',\n",
       "      'width': 120,\n",
       "      'height': 90},\n",
       "     'medium': {'url': 'https://i.ytimg.com/vi/d5KaMPsRKe0/mqdefault.jpg',\n",
       "      'width': 320,\n",
       "      'height': 180},\n",
       "     'high': {'url': 'https://i.ytimg.com/vi/d5KaMPsRKe0/hqdefault.jpg',\n",
       "      'width': 480,\n",
       "      'height': 360}},\n",
       "    'channelTitle': '6Cast',\n",
       "    'liveBroadcastContent': 'none'}}]}"
      ]
     },
     "execution_count": 8,
     "metadata": {},
     "output_type": "execute_result"
    }
   ],
   "source": [
    "crawler.search_list_by_keyword_http_request(search_word='Dua Lipa - Kiss and Make Up', \n",
    "                                            part = 'snippet', \n",
    "                                            region = 'US', \n",
    "                                            search_type = 'video')"
   ]
  },
  {
   "cell_type": "code",
   "execution_count": 16,
   "metadata": {},
   "outputs": [
    {
     "data": {
      "text/plain": [
       "'2018-10-19T07:51:33.000Z'"
      ]
     },
     "execution_count": 16,
     "metadata": {},
     "output_type": "execute_result"
    }
   ],
   "source": [
    "yourdate = '2018-10-19T07:51:33.000Z'\n",
    "yourdate"
   ]
  },
  {
   "cell_type": "code",
   "execution_count": 17,
   "metadata": {},
   "outputs": [
    {
     "data": {
      "text/plain": [
       "'2018-12-19T12:10:07.658912'"
      ]
     },
     "execution_count": 17,
     "metadata": {},
     "output_type": "execute_result"
    }
   ],
   "source": [
    "now =datetime.datetime.now().isoformat()\n",
    "now"
   ]
  },
  {
   "cell_type": "code",
   "execution_count": 19,
   "metadata": {},
   "outputs": [
    {
     "data": {
      "text/plain": [
       "61"
      ]
     },
     "execution_count": 19,
     "metadata": {},
     "output_type": "execute_result"
    }
   ],
   "source": [
    "def days_different(now, date):\n",
    "    date = dateutil.parser.parse(date)\n",
    "    now = dateutil.parser.parse(datetime.datetime.now().isoformat())\n",
    "    a = datetime.date(now.year, now.month, now.day)\n",
    "    b = datetime.date(date.year, date.month, date.day)\n",
    "    return (a-b).days\n",
    "days_different(now, yourdate)"
   ]
  },
  {
   "cell_type": "code",
   "execution_count": 146,
   "metadata": {},
   "outputs": [],
   "source": [
    "def crawler_ml_modeled(search_query):\n",
    "    responses = crawler.search_list_by_keyword_http_request(search_word = search_query, \n",
    "                                                            part ='snippet', \n",
    "                                                            region = 'US', \n",
    "                                                            search_type = 'video')\n",
    "    #print(pprint.pprint(responses))\n",
    "    #return responses\n",
    "    if pd.isna(responses) == True:\n",
    "        return responses\n",
    "    else:\n",
    "        for response in responses['items']:\n",
    "            #return video_title\n",
    "            video_title = response['snippet']['title']\n",
    "            print(video_title)\n",
    "            title_transform = count_vectorizer.transform([video_title]).toarray().reshape(-1)\n",
    "            #print(title_transform)\n",
    "            #return video_id\n",
    "            video_id = response['id']['videoId']\n",
    "            #return channelId\n",
    "            channelId = response['snippet']['channelId']\n",
    "            #return video_view\n",
    "            video_view = int(crawler.search_list_by_id(video_id = video_id, part = 'statistics')['items'][0]['statistics']['viewCount'])\n",
    "            \n",
    "            log_video_view = np.log(video_view)\n",
    "            #return channel_sub   \n",
    "            channel_sub = int(crawler.search_list_by_channel(channelId = channelId, part = 'statistics')['items'][0]['statistics']['subscriberCount'])\n",
    "            if channel_sub >= 100000:\n",
    "                verified = 1\n",
    "            else:\n",
    "                verified = 0\n",
    "                   \n",
    "            # return available_time\n",
    "            publish_date = response['snippet']['publishedAt']\n",
    "            up_time = days_different(now, publish_date)\n",
    "            features = np.concatenate((np.array((verified, up_time, log_video_view)),title_transform ),axis = None)\n",
    "            #print(features)\n",
    "            result = model.predict(features.reshape(1, -1))\n",
    "            #print(result)\n",
    "            if result == 1:\n",
    "                return video_id\n",
    "            else:\n",
    "                continue \n",
    "    return np.nan\n",
    "\n",
    "                "
   ]
  },
  {
   "cell_type": "markdown",
   "metadata": {},
   "source": [
    "when the predicted results is 50/50, it random choice between 1 and 0, this can be improved by setting a threshold for 1, ie : 80% certainty"
   ]
  },
  {
   "cell_type": "code",
   "execution_count": 147,
   "metadata": {
    "scrolled": true
   },
   "outputs": [
    {
     "name": "stdout",
     "output_type": "stream",
     "text": [
      "Hugh Jackman, Keala Settle, Zac Efron, Zendaya - The Greatest Show (Lyrics Video)\n",
      "[0]\n",
      "The Greatest Interview Ever! (Hugh Jackman, Zac Efron, Zendaya, Keala Settle) | The Greatest Showman\n",
      "[1]\n"
     ]
    }
   ],
   "source": [
    "a = crawler_ml_modeled('Hugh Jackman, Keala Settle, Zac Efron, Zendaya & The Greatest Showman Ensemble\tHugh Jackman, Keala Settle, Zac Efron, Zendaya & The Greatest Showman Ensemble - The Greatest Show')"
   ]
  },
  {
   "cell_type": "code",
   "execution_count": 148,
   "metadata": {},
   "outputs": [
    {
     "name": "stdout",
     "output_type": "stream",
     "text": [
      "-wd9sIDz46k\n"
     ]
    }
   ],
   "source": [
    "print(a)"
   ]
  },
  {
   "cell_type": "code",
   "execution_count": 129,
   "metadata": {},
   "outputs": [
    {
     "data": {
      "text/html": [
       "<div>\n",
       "<style scoped>\n",
       "    .dataframe tbody tr th:only-of-type {\n",
       "        vertical-align: middle;\n",
       "    }\n",
       "\n",
       "    .dataframe tbody tr th {\n",
       "        vertical-align: top;\n",
       "    }\n",
       "\n",
       "    .dataframe thead th {\n",
       "        text-align: right;\n",
       "    }\n",
       "</style>\n",
       "<table border=\"1\" class=\"dataframe\">\n",
       "  <thead>\n",
       "    <tr style=\"text-align: right;\">\n",
       "      <th></th>\n",
       "      <th>artist</th>\n",
       "      <th>song_title</th>\n",
       "    </tr>\n",
       "  </thead>\n",
       "  <tbody>\n",
       "    <tr>\n",
       "      <th>0</th>\n",
       "      <td>Desperate Man</td>\n",
       "      <td>Eric Church</td>\n",
       "    </tr>\n",
       "    <tr>\n",
       "      <th>1</th>\n",
       "      <td>Trip</td>\n",
       "      <td>Ella Mai</td>\n",
       "    </tr>\n",
       "    <tr>\n",
       "      <th>2</th>\n",
       "      <td>All I Want For Christmas Is You</td>\n",
       "      <td>Mariah Carey</td>\n",
       "    </tr>\n",
       "    <tr>\n",
       "      <th>3</th>\n",
       "      <td>Better</td>\n",
       "      <td>Khalid</td>\n",
       "    </tr>\n",
       "    <tr>\n",
       "      <th>4</th>\n",
       "      <td>Heaven</td>\n",
       "      <td>Kane Brown</td>\n",
       "    </tr>\n",
       "  </tbody>\n",
       "</table>\n",
       "</div>"
      ],
      "text/plain": [
       "                            artist    song_title\n",
       "0                    Desperate Man   Eric Church\n",
       "1                             Trip      Ella Mai\n",
       "2  All I Want For Christmas Is You  Mariah Carey\n",
       "3                           Better        Khalid\n",
       "4                           Heaven    Kane Brown"
      ]
     },
     "execution_count": 129,
     "metadata": {},
     "output_type": "execute_result"
    }
   ],
   "source": [
    "test_df = pd.read_excel('test_input.xlsx', header = 0)\n",
    "test_df.head()"
   ]
  },
  {
   "cell_type": "code",
   "execution_count": 99,
   "metadata": {},
   "outputs": [],
   "source": [
    "test_df['search_keyword'] = test_df.song_title + ' - ' + test_df.artist"
   ]
  },
  {
   "cell_type": "code",
   "execution_count": 106,
   "metadata": {},
   "outputs": [
    {
     "name": "stdout",
     "output_type": "stream",
     "text": [
      "Eric Church - Desperate Man (Official Music Video)\n",
      "Ella Mai - Trip (Audio)\n",
      "Ella Mai - Trip\n",
      "Mariah Carey - All I Want For Christmas Is You\n",
      "Khalid - Better (Official Music Video)\n",
      "Kane Brown - Heaven (Official Music Video)\n",
      "Kelsea Ballerini - Miss Me More\n",
      "Miss Me More - Kelsea Ballerini\n",
      "Trans-Siberian Orchestra - Christmas Canon (Official Video)\n",
      "Jingle Bell Rock / Bobby Helms 1957\n",
      "Kane Brown - Lose It (Official Music Video)\n",
      "Queen - Somebody To Love (Official Video)\n",
      "lovelytheband - broken (official video)\n",
      "Lady Gaga, Bradley Cooper - Shallow (A Star Is Born)\n",
      "Loren Allred - Never Enough (Live Performance)\n",
      "Hugh Jackman, Keala Settle, Zac Efron, Zendaya - The Greatest Show (Lyrics Video)\n",
      "The Greatest Interview Ever! (Hugh Jackman, Zac Efron, Zendaya, Keala Settle) | The Greatest Showman\n",
      "Khalid - Better (Official Music Video)\n",
      "Chris Lane - I Don't Know About You\n",
      "Rita Ora - Only Want You [Official Audio]\n",
      "Rita Ora - Only Want You (Lyrics)\n",
      "Rita Ora performs \"Only Want You\" Live in Germany\n",
      "Rita Ora - Only Want You (Lyrics)\n",
      "Rita Ora ‒ Only Want You (Lyrics)\n",
      "[Official Video] Mary, Did You Know? - Pentatonix\n",
      "LSD - Thunderclouds (Official Video) ft. Sia, Diplo, Labrinth\n",
      "NCT 127 엔시티 127 'Simon Says' MV\n",
      "Billie Eilish - when the party's over\n",
      "Where are you Christmas? Faith Hill\n",
      "Small Town Titans - \"You're A Mean One, Mr. Grinch\"\n",
      "Camila Cabello - Havana (Official Music VIdeo) ft. Young Thug\n",
      "Kelly Clarkson - Underneath the Tree (Audio)\n",
      "Kelly Clarkson - Underneath the Tree\n",
      "Imagine Dragons - Whatever It Takes (Official Music Video)\n",
      "Halsey - Without Me\n",
      "Queen - Bohemian Rhapsody (Official Video)\n",
      "Bad Bunny feat. Drake - Mia ( Video Oficial )\n",
      "Silk City & Dua Lipa - Electricity ft. Diplo & Mark Ronson (Official Video)\n",
      "Rita Ora - Let You Love Me [Official Video]\n",
      "Luke Combs - Beautiful Crazy\n",
      "Beautiful Crazy Lyrics Luke Combs\n",
      "Calvin Harris, Sam Smith - Promises (Official Lyric Video)\n",
      "Queen - Radio Ga Ga (Official Video)\n",
      "Imagine Dragons - Thunder\n",
      "[OFFICIAL VIDEO] Hallelujah - Pentatonix\n",
      "Brenda Lee - Rockin' around the Christmas tree\n",
      "73 Questions With Zac Efron | Vogue\n",
      "Camila Cabello - Consequences (orchestra)\n",
      "Wham! - Last Christmas (Official Music Video)\n",
      "Bebe Rexha - I'm A Mess (Official Music Video)\n",
      "Chris Stapleton - Tennessee Whiskey (Audio)\n",
      "Chris Stapleton Tennessee Whiskey Lyrics\n",
      "I'll Never Love Again (Extended Version)\n",
      "Lady Gaga, Bradley Cooper - I'll Never Love Again (A Star Is Born)\n",
      "Billie Eilish - when the party's over\n",
      "Mitchell Tenpenny - Drunk Me\n",
      "Crazy Rich Asians Soundtrack - Can’t Help Falling In Love - Kina Grannis\n",
      "Crazy Rich Asians Soundtrack - Can’t Help Falling In Love - Kina Grannis\n",
      "Lauren Daigle - You Say (Official Music Video)\n",
      "Shawn Mendes, Zedd - Lost In Japan (Original + Remix)\n",
      "Love Of My Life - Rock in Rio 1985\n",
      "Morgan Wallen - Whiskey Glasses\n",
      "Whiskey Glasses\n",
      "Morgan Wallen, \"Whiskey Glasses\" - #RISERS\n",
      "Morgan Wallen - Whiskey Glasses (98.7 THE BULL)\n",
      "Morgan Wallen - Whiskey Glasses\n",
      "Jason Aldean - Girl Like You (Official Audio)\n",
      "Jason Aldean - \"Girl Like You\" (Lyric Video)\n",
      "Post Malone - Better Now\n",
      "Out Of Time\n",
      "SHAED: Trampoline (Audio)\n",
      "SHAED - Trampoline (Official Video)\n",
      "Andy Williams - It's The Most Wonderful Time Of The Year\n",
      "Queen - We Will Rock You (Official Video)\n",
      "Bazzi feat. Camila Cabello - Beautiful (Official Video)\n",
      "Dierks Bentley - Burning Man ft. Brothers Osborne\n",
      "Florida Georgia Line - Simple (Lyric Version)\n",
      "Imagine Dragons - Believer\n",
      "Billie Eilish - you should see me in a crown (Vertical Video)\n",
      "Chris Stapleton - Millionaire (Audio)\n",
      "Chris Stapleton - Millionaire\n",
      "XXXTENTACION - BAD! (Official Music Video)\n",
      "Panic! At The Disco - The Greatest Show (from The Greatest Showman: Reimagined) [Official Audio]\n",
      "Panic! At The Disco - The Greatest Show (Official Lyric Video)\n",
      "Kip Moore - Last Shot (Lyric Video)\n",
      "Dan + Shay - Speechless (Wedding Video)\n",
      "Queen - Bohemian Rhapsody (Official Video)\n",
      "Queen - Crazy Little Thing Called Love (Official Video)\n",
      "Jimmie Allen - Best Shot\n",
      "Billie Eilish - come out and play (Audio)\n",
      "Billie Eilish - come out and play (Lyric Video)\n",
      "Queen - Killer Queen (Top Of The Pops, 1974)\n",
      "Thomas Rhett - Sixteen (Lyric Video)\n",
      "Luke Combs - She Got the Best of Me\n",
      "Imagine Dragons - Zero (From the Original Motion Picture \"Ralph Breaks The Internet\")\n",
      "Ed Sheeran - Perfect (Official Music Video)\n",
      "01 - Fat Bottomed Girl (Single Version) - Queen Remastered 2011\n",
      "Queen - Fat Bottomed Girls (Official Video)\n",
      "Imagine Dragons - Natural\n",
      "Queen -  We Are The Champions (Official Video)\n",
      "Avril Lavigne - Head Above Water (Official Video)\n",
      "The Chainsmokers - This Feeling ft. Kelsea Ballerini (Lyric Video)\n",
      "Queen - Don't Stop Me Now (Official Video)\n",
      "5 Seconds Of Summer - Youngblood (Official Video)\n",
      "Cooking with Marshmello: 2018 YouTube Rewind\n",
      "Marshmello - Alone (Official Music Video)\n",
      "Panic! At The Disco - High Hopes (Official Video)\n",
      "Billie Eilish - idontwannabeyouanymore (Vertical Video)\n",
      "Christmas/ Sarajevo 12/24 [Instrumental]\n",
      "Queen - Another One Bites the Dust (Official Video)\n",
      "Dan + Shay - Tequila (Official Music Video)\n",
      "Hozier - Movement\n",
      "Lady Gaga, Bradley Cooper - Shallow (A Star Is Born)\n",
      "benny blanco, Halsey & Khalid – Eastside (official video)\n",
      "Bebe Rexha - I'm A Mess (Official Music Video)\n"
     ]
    }
   ],
   "source": [
    "test_df['youtube_id'] = test_df.search_keyword.apply(lambda row: crawler_ml_modeled(row))"
   ]
  },
  {
   "cell_type": "code",
   "execution_count": 107,
   "metadata": {},
   "outputs": [
    {
     "data": {
      "text/html": [
       "<div>\n",
       "<style scoped>\n",
       "    .dataframe tbody tr th:only-of-type {\n",
       "        vertical-align: middle;\n",
       "    }\n",
       "\n",
       "    .dataframe tbody tr th {\n",
       "        vertical-align: top;\n",
       "    }\n",
       "\n",
       "    .dataframe thead th {\n",
       "        text-align: right;\n",
       "    }\n",
       "</style>\n",
       "<table border=\"1\" class=\"dataframe\">\n",
       "  <thead>\n",
       "    <tr style=\"text-align: right;\">\n",
       "      <th></th>\n",
       "      <th>artist</th>\n",
       "      <th>song_title</th>\n",
       "      <th>search_keyword</th>\n",
       "      <th>youtube_id</th>\n",
       "    </tr>\n",
       "  </thead>\n",
       "  <tbody>\n",
       "    <tr>\n",
       "      <th>0</th>\n",
       "      <td>Desperate Man</td>\n",
       "      <td>Eric Church</td>\n",
       "      <td>Eric Church - Desperate Man</td>\n",
       "      <td>sq93t3J4R5c</td>\n",
       "    </tr>\n",
       "    <tr>\n",
       "      <th>1</th>\n",
       "      <td>Trip</td>\n",
       "      <td>Ella Mai</td>\n",
       "      <td>Ella Mai - Trip</td>\n",
       "      <td>W16bk86xIY0</td>\n",
       "    </tr>\n",
       "    <tr>\n",
       "      <th>2</th>\n",
       "      <td>All I Want For Christmas Is You</td>\n",
       "      <td>Mariah Carey</td>\n",
       "      <td>Mariah Carey - All I Want For Christmas Is You</td>\n",
       "      <td>yXQViqx6GMY</td>\n",
       "    </tr>\n",
       "    <tr>\n",
       "      <th>3</th>\n",
       "      <td>Better</td>\n",
       "      <td>Khalid</td>\n",
       "      <td>Khalid - Better</td>\n",
       "      <td>x3bfa3DZ8JM</td>\n",
       "    </tr>\n",
       "    <tr>\n",
       "      <th>4</th>\n",
       "      <td>Heaven</td>\n",
       "      <td>Kane Brown</td>\n",
       "      <td>Kane Brown - Heaven</td>\n",
       "      <td>dRX0wDNK6S4</td>\n",
       "    </tr>\n",
       "  </tbody>\n",
       "</table>\n",
       "</div>"
      ],
      "text/plain": [
       "                            artist    song_title  \\\n",
       "0                    Desperate Man   Eric Church   \n",
       "1                             Trip      Ella Mai   \n",
       "2  All I Want For Christmas Is You  Mariah Carey   \n",
       "3                           Better        Khalid   \n",
       "4                           Heaven    Kane Brown   \n",
       "\n",
       "                                   search_keyword   youtube_id  \n",
       "0                     Eric Church - Desperate Man  sq93t3J4R5c  \n",
       "1                                 Ella Mai - Trip  W16bk86xIY0  \n",
       "2  Mariah Carey - All I Want For Christmas Is You  yXQViqx6GMY  \n",
       "3                                 Khalid - Better  x3bfa3DZ8JM  \n",
       "4                             Kane Brown - Heaven  dRX0wDNK6S4  "
      ]
     },
     "execution_count": 107,
     "metadata": {},
     "output_type": "execute_result"
    }
   ],
   "source": [
    "test_df.head()"
   ]
  },
  {
   "cell_type": "code",
   "execution_count": 113,
   "metadata": {},
   "outputs": [
    {
     "data": {
      "text/html": [
       "<div>\n",
       "<style scoped>\n",
       "    .dataframe tbody tr th:only-of-type {\n",
       "        vertical-align: middle;\n",
       "    }\n",
       "\n",
       "    .dataframe tbody tr th {\n",
       "        vertical-align: top;\n",
       "    }\n",
       "\n",
       "    .dataframe thead th {\n",
       "        text-align: right;\n",
       "    }\n",
       "</style>\n",
       "<table border=\"1\" class=\"dataframe\">\n",
       "  <thead>\n",
       "    <tr style=\"text-align: right;\">\n",
       "      <th></th>\n",
       "      <th>artist</th>\n",
       "      <th>song_title</th>\n",
       "      <th>search_keyword</th>\n",
       "      <th>youtube_id</th>\n",
       "      <th>youtube_link</th>\n",
       "    </tr>\n",
       "  </thead>\n",
       "  <tbody>\n",
       "    <tr>\n",
       "      <th>0</th>\n",
       "      <td>Desperate Man</td>\n",
       "      <td>Eric Church</td>\n",
       "      <td>Eric Church - Desperate Man</td>\n",
       "      <td>sq93t3J4R5c</td>\n",
       "      <td>https://www.youtube.com/watch?v=sq93t3J4R5c</td>\n",
       "    </tr>\n",
       "    <tr>\n",
       "      <th>1</th>\n",
       "      <td>Trip</td>\n",
       "      <td>Ella Mai</td>\n",
       "      <td>Ella Mai - Trip</td>\n",
       "      <td>W16bk86xIY0</td>\n",
       "      <td>https://www.youtube.com/watch?v=W16bk86xIY0</td>\n",
       "    </tr>\n",
       "    <tr>\n",
       "      <th>2</th>\n",
       "      <td>All I Want For Christmas Is You</td>\n",
       "      <td>Mariah Carey</td>\n",
       "      <td>Mariah Carey - All I Want For Christmas Is You</td>\n",
       "      <td>yXQViqx6GMY</td>\n",
       "      <td>https://www.youtube.com/watch?v=yXQViqx6GMY</td>\n",
       "    </tr>\n",
       "    <tr>\n",
       "      <th>3</th>\n",
       "      <td>Better</td>\n",
       "      <td>Khalid</td>\n",
       "      <td>Khalid - Better</td>\n",
       "      <td>x3bfa3DZ8JM</td>\n",
       "      <td>https://www.youtube.com/watch?v=x3bfa3DZ8JM</td>\n",
       "    </tr>\n",
       "    <tr>\n",
       "      <th>4</th>\n",
       "      <td>Heaven</td>\n",
       "      <td>Kane Brown</td>\n",
       "      <td>Kane Brown - Heaven</td>\n",
       "      <td>dRX0wDNK6S4</td>\n",
       "      <td>https://www.youtube.com/watch?v=dRX0wDNK6S4</td>\n",
       "    </tr>\n",
       "  </tbody>\n",
       "</table>\n",
       "</div>"
      ],
      "text/plain": [
       "                            artist    song_title  \\\n",
       "0                    Desperate Man   Eric Church   \n",
       "1                             Trip      Ella Mai   \n",
       "2  All I Want For Christmas Is You  Mariah Carey   \n",
       "3                           Better        Khalid   \n",
       "4                           Heaven    Kane Brown   \n",
       "\n",
       "                                   search_keyword   youtube_id  \\\n",
       "0                     Eric Church - Desperate Man  sq93t3J4R5c   \n",
       "1                                 Ella Mai - Trip  W16bk86xIY0   \n",
       "2  Mariah Carey - All I Want For Christmas Is You  yXQViqx6GMY   \n",
       "3                                 Khalid - Better  x3bfa3DZ8JM   \n",
       "4                             Kane Brown - Heaven  dRX0wDNK6S4   \n",
       "\n",
       "                                  youtube_link  \n",
       "0  https://www.youtube.com/watch?v=sq93t3J4R5c  \n",
       "1  https://www.youtube.com/watch?v=W16bk86xIY0  \n",
       "2  https://www.youtube.com/watch?v=yXQViqx6GMY  \n",
       "3  https://www.youtube.com/watch?v=x3bfa3DZ8JM  \n",
       "4  https://www.youtube.com/watch?v=dRX0wDNK6S4  "
      ]
     },
     "execution_count": 113,
     "metadata": {},
     "output_type": "execute_result"
    }
   ],
   "source": [
    "test_df['youtube_link'] = 'https://www.youtube.com/watch?v=' + test_df.youtube_id\n",
    "test_df.head()"
   ]
  },
  {
   "cell_type": "code",
   "execution_count": 114,
   "metadata": {},
   "outputs": [],
   "source": [
    "test_df.to_csv('test_output.csv', index = False)"
   ]
  },
  {
   "cell_type": "code",
   "execution_count": null,
   "metadata": {},
   "outputs": [],
   "source": []
  }
 ],
 "metadata": {
  "kernelspec": {
   "display_name": "Python 3",
   "language": "python",
   "name": "python3"
  },
  "language_info": {
   "codemirror_mode": {
    "name": "ipython",
    "version": 3
   },
   "file_extension": ".py",
   "mimetype": "text/x-python",
   "name": "python",
   "nbconvert_exporter": "python",
   "pygments_lexer": "ipython3",
   "version": "3.6.5"
  }
 },
 "nbformat": 4,
 "nbformat_minor": 2
}
