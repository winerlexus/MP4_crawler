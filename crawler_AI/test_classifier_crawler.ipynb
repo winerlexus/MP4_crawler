{
 "cells": [
  {
   "cell_type": "code",
   "execution_count": null,
   "metadata": {},
   "outputs": [],
   "source": [
    "%run youtube_api_crawler.ipynb"
   ]
  },
  {
   "cell_type": "code",
   "execution_count": 1,
   "metadata": {},
   "outputs": [],
   "source": [
    "from youtube_api_crawler import crawler_api as crawler"
   ]
  },
  {
   "cell_type": "code",
   "execution_count": 2,
   "metadata": {},
   "outputs": [],
   "source": [
    "import pandas as pd\n",
    "import numpy as np\n",
    "import requests\n",
    "import json\n",
    "from sklearn.model_selection import train_test_split\n",
    "from sklearn.neighbors import KNeighborsClassifier\n",
    "import matplotlib.pyplot as plt"
   ]
  },
  {
   "cell_type": "code",
   "execution_count": 3,
   "metadata": {},
   "outputs": [],
   "source": [
    "columns = ['artist','song_title','duration','player_width','player_height','video_id','y']"
   ]
  },
  {
   "cell_type": "code",
   "execution_count": 6,
   "metadata": {},
   "outputs": [],
   "source": [
    "official_df = pd.read_csv('official_MV.csv')\n",
    "unofficial_df = pd.read_csv('unofficial_MV.csv')"
   ]
  },
  {
   "cell_type": "code",
   "execution_count": 11,
   "metadata": {},
   "outputs": [],
   "source": [
    "unofficial_df.to_csv('unofficial_MV.csv', index = False)"
   ]
  },
  {
   "cell_type": "code",
   "execution_count": 12,
   "metadata": {},
   "outputs": [],
   "source": [
    "unofficial_df = unofficial_df[:2000]"
   ]
  },
  {
   "cell_type": "code",
   "execution_count": 13,
   "metadata": {},
   "outputs": [],
   "source": [
    "official_df.columns = columns\n",
    "unofficial_df.columns = columns"
   ]
  },
  {
   "cell_type": "code",
   "execution_count": 14,
   "metadata": {},
   "outputs": [],
   "source": [
    "working_df = pd.concat([official_df, unofficial_df])"
   ]
  },
  {
   "cell_type": "code",
   "execution_count": 18,
   "metadata": {},
   "outputs": [],
   "source": [
    "official = list(official_df.duration.values)\n",
    "unofficial = list(unofficial_df.duration.values)"
   ]
  },
  {
   "cell_type": "code",
   "execution_count": null,
   "metadata": {},
   "outputs": [],
   "source": [
    "official_labels = list(official_df.)"
   ]
  },
  {
   "cell_type": "code",
   "execution_count": 23,
   "metadata": {},
   "outputs": [
    {
     "data": {
      "image/png": "[encoded data removed]",
      "text/plain": [
       "<Figure size 432x288 with 1 Axes>"
      ]
     },
     "metadata": {},
     "output_type": "display_data"
    }
   ],
   "source": [
    "plt.scatter(official, unofficial, alpha = 0.4)\n",
    "plt.xlabel('official_MV')\n",
    "plt.ylabel('unoffical_MV')\n",
    "plt.show()"
   ]
  },
  {
   "cell_type": "code",
   "execution_count": 40,
   "metadata": {},
   "outputs": [
    {
     "data": {
      "text/plain": [
       "[203.7375, 263.68]"
      ]
     },
     "execution_count": 40,
     "metadata": {},
     "output_type": "execute_result"
    }
   ],
   "source": [
    "[np.percentile(official, 25),np.percentile(official, 75)]"
   ]
  },
  {
   "cell_type": "code",
   "execution_count": 41,
   "metadata": {},
   "outputs": [
    {
     "data": {
      "text/plain": [
       "[185.0, 272.83]"
      ]
     },
     "execution_count": 41,
     "metadata": {},
     "output_type": "execute_result"
    }
   ],
   "source": [
    "[np.percentile(unofficial, 25),np.percentile(unofficial, 75)]"
   ]
  },
  {
   "cell_type": "code",
   "execution_count": 42,
   "metadata": {},
   "outputs": [
    {
     "data": {
      "text/plain": [
       "(4000, 7)"
      ]
     },
     "execution_count": 42,
     "metadata": {},
     "output_type": "execute_result"
    }
   ],
   "source": [
    "working_df.shape"
   ]
  },
  {
   "cell_type": "code",
   "execution_count": 43,
   "metadata": {},
   "outputs": [],
   "source": [
    "working_df.y = working_df.y.apply(lambda row : 1 if row == \"A\" else 0 )"
   ]
  },
  {
   "cell_type": "code",
   "execution_count": 44,
   "metadata": {
    "scrolled": true
   },
   "outputs": [
    {
     "data": {
      "text/html": [
       "<div>\n",
       "<style scoped>\n",
       "    .dataframe tbody tr th:only-of-type {\n",
       "        vertical-align: middle;\n",
       "    }\n",
       "\n",
       "    .dataframe tbody tr th {\n",
       "        vertical-align: top;\n",
       "    }\n",
       "\n",
       "    .dataframe thead th {\n",
       "        text-align: right;\n",
       "    }\n",
       "</style>\n",
       "<table border=\"1\" class=\"dataframe\">\n",
       "  <thead>\n",
       "    <tr style=\"text-align: right;\">\n",
       "      <th></th>\n",
       "      <th>artist</th>\n",
       "      <th>song_title</th>\n",
       "      <th>duration</th>\n",
       "      <th>player_width</th>\n",
       "      <th>player_height</th>\n",
       "      <th>video_id</th>\n",
       "      <th>y</th>\n",
       "    </tr>\n",
       "  </thead>\n",
       "  <tbody>\n",
       "    <tr>\n",
       "      <th>0</th>\n",
       "      <td>Post Malone</td>\n",
       "      <td>rockstar (feat. 21 Savage)</td>\n",
       "      <td>241.87</td>\n",
       "      <td>1280</td>\n",
       "      <td>720</td>\n",
       "      <td>UceaB4D0jpo</td>\n",
       "      <td>1</td>\n",
       "    </tr>\n",
       "    <tr>\n",
       "      <th>1</th>\n",
       "      <td>Above &amp; Beyond</td>\n",
       "      <td>All Over the World (feat. Alex Vargas)</td>\n",
       "      <td>270.77</td>\n",
       "      <td>1280</td>\n",
       "      <td>676</td>\n",
       "      <td>U-zC8BkPBZM</td>\n",
       "      <td>1</td>\n",
       "    </tr>\n",
       "    <tr>\n",
       "      <th>2</th>\n",
       "      <td>MAN WITH A MISSION</td>\n",
       "      <td>Find You</td>\n",
       "      <td>325.33</td>\n",
       "      <td>1280</td>\n",
       "      <td>720</td>\n",
       "      <td>rYS9ZdGt9Ko</td>\n",
       "      <td>1</td>\n",
       "    </tr>\n",
       "    <tr>\n",
       "      <th>3</th>\n",
       "      <td>Wally Ballago Seck</td>\n",
       "      <td>Bodioudo</td>\n",
       "      <td>320.52</td>\n",
       "      <td>480</td>\n",
       "      <td>360</td>\n",
       "      <td>E5XzF4c1Lw8</td>\n",
       "      <td>1</td>\n",
       "    </tr>\n",
       "    <tr>\n",
       "      <th>4</th>\n",
       "      <td>Ben Howard</td>\n",
       "      <td>Nica Libres At Dusk</td>\n",
       "      <td>394.88</td>\n",
       "      <td>1280</td>\n",
       "      <td>720</td>\n",
       "      <td>NzcV8HXE_EI</td>\n",
       "      <td>1</td>\n",
       "    </tr>\n",
       "  </tbody>\n",
       "</table>\n",
       "</div>"
      ],
      "text/plain": [
       "               artist                              song_title  duration  \\\n",
       "0         Post Malone              rockstar (feat. 21 Savage)    241.87   \n",
       "1      Above & Beyond  All Over the World (feat. Alex Vargas)    270.77   \n",
       "2  MAN WITH A MISSION                                Find You    325.33   \n",
       "3  Wally Ballago Seck                                Bodioudo    320.52   \n",
       "4          Ben Howard                     Nica Libres At Dusk    394.88   \n",
       "\n",
       "   player_width  player_height     video_id  y  \n",
       "0          1280            720  UceaB4D0jpo  1  \n",
       "1          1280            676  U-zC8BkPBZM  1  \n",
       "2          1280            720  rYS9ZdGt9Ko  1  \n",
       "3           480            360  E5XzF4c1Lw8  1  \n",
       "4          1280            720  NzcV8HXE_EI  1  "
      ]
     },
     "execution_count": 44,
     "metadata": {},
     "output_type": "execute_result"
    }
   ],
   "source": [
    "working_df.head()"
   ]
  },
  {
   "cell_type": "code",
   "execution_count": 46,
   "metadata": {},
   "outputs": [
    {
     "data": {
      "text/html": [
       "<div>\n",
       "<style scoped>\n",
       "    .dataframe tbody tr th:only-of-type {\n",
       "        vertical-align: middle;\n",
       "    }\n",
       "\n",
       "    .dataframe tbody tr th {\n",
       "        vertical-align: top;\n",
       "    }\n",
       "\n",
       "    .dataframe thead th {\n",
       "        text-align: right;\n",
       "    }\n",
       "</style>\n",
       "<table border=\"1\" class=\"dataframe\">\n",
       "  <thead>\n",
       "    <tr style=\"text-align: right;\">\n",
       "      <th></th>\n",
       "      <th>artist</th>\n",
       "      <th>song_title</th>\n",
       "      <th>duration</th>\n",
       "      <th>player_width</th>\n",
       "      <th>player_height</th>\n",
       "      <th>video_id</th>\n",
       "      <th>y</th>\n",
       "      <th>search_keyword</th>\n",
       "    </tr>\n",
       "  </thead>\n",
       "  <tbody>\n",
       "    <tr>\n",
       "      <th>0</th>\n",
       "      <td>Post Malone</td>\n",
       "      <td>rockstar (feat. 21 Savage)</td>\n",
       "      <td>241.87</td>\n",
       "      <td>1280</td>\n",
       "      <td>720</td>\n",
       "      <td>UceaB4D0jpo</td>\n",
       "      <td>1</td>\n",
       "      <td>rockstar (feat. 21 Savage) - Post Malone</td>\n",
       "    </tr>\n",
       "    <tr>\n",
       "      <th>1</th>\n",
       "      <td>Above &amp; Beyond</td>\n",
       "      <td>All Over the World (feat. Alex Vargas)</td>\n",
       "      <td>270.77</td>\n",
       "      <td>1280</td>\n",
       "      <td>676</td>\n",
       "      <td>U-zC8BkPBZM</td>\n",
       "      <td>1</td>\n",
       "      <td>All Over the World (feat. Alex Vargas) - Above...</td>\n",
       "    </tr>\n",
       "    <tr>\n",
       "      <th>2</th>\n",
       "      <td>MAN WITH A MISSION</td>\n",
       "      <td>Find You</td>\n",
       "      <td>325.33</td>\n",
       "      <td>1280</td>\n",
       "      <td>720</td>\n",
       "      <td>rYS9ZdGt9Ko</td>\n",
       "      <td>1</td>\n",
       "      <td>Find You - MAN WITH A MISSION</td>\n",
       "    </tr>\n",
       "    <tr>\n",
       "      <th>3</th>\n",
       "      <td>Wally Ballago Seck</td>\n",
       "      <td>Bodioudo</td>\n",
       "      <td>320.52</td>\n",
       "      <td>480</td>\n",
       "      <td>360</td>\n",
       "      <td>E5XzF4c1Lw8</td>\n",
       "      <td>1</td>\n",
       "      <td>Bodioudo - Wally Ballago Seck</td>\n",
       "    </tr>\n",
       "    <tr>\n",
       "      <th>4</th>\n",
       "      <td>Ben Howard</td>\n",
       "      <td>Nica Libres At Dusk</td>\n",
       "      <td>394.88</td>\n",
       "      <td>1280</td>\n",
       "      <td>720</td>\n",
       "      <td>NzcV8HXE_EI</td>\n",
       "      <td>1</td>\n",
       "      <td>Nica Libres At Dusk - Ben Howard</td>\n",
       "    </tr>\n",
       "  </tbody>\n",
       "</table>\n",
       "</div>"
      ],
      "text/plain": [
       "               artist                              song_title  duration  \\\n",
       "0         Post Malone              rockstar (feat. 21 Savage)    241.87   \n",
       "1      Above & Beyond  All Over the World (feat. Alex Vargas)    270.77   \n",
       "2  MAN WITH A MISSION                                Find You    325.33   \n",
       "3  Wally Ballago Seck                                Bodioudo    320.52   \n",
       "4          Ben Howard                     Nica Libres At Dusk    394.88   \n",
       "\n",
       "   player_width  player_height     video_id  y  \\\n",
       "0          1280            720  UceaB4D0jpo  1   \n",
       "1          1280            676  U-zC8BkPBZM  1   \n",
       "2          1280            720  rYS9ZdGt9Ko  1   \n",
       "3           480            360  E5XzF4c1Lw8  1   \n",
       "4          1280            720  NzcV8HXE_EI  1   \n",
       "\n",
       "                                      search_keyword  \n",
       "0           rockstar (feat. 21 Savage) - Post Malone  \n",
       "1  All Over the World (feat. Alex Vargas) - Above...  \n",
       "2                      Find You - MAN WITH A MISSION  \n",
       "3                      Bodioudo - Wally Ballago Seck  \n",
       "4                   Nica Libres At Dusk - Ben Howard  "
      ]
     },
     "execution_count": 46,
     "metadata": {},
     "output_type": "execute_result"
    }
   ],
   "source": [
    "working_df['search_keyword'] = working_df.song_title + ' - ' + working_df.artist\n",
    "working_df.head()"
   ]
  },
  {
   "cell_type": "code",
   "execution_count": 51,
   "metadata": {
    "collapsed": true
   },
   "outputs": [
    {
     "name": "stdout",
     "output_type": "stream",
     "text": [
      "{'etag': '\"XI7nbFXulYBIpL0ayR_gDh3eu1k/fNigEIH6ztZLCTF0St_7kXMw-nc\"',\n",
      " 'items': [{'etag': '\"XI7nbFXulYBIpL0ayR_gDh3eu1k/58FgbnItKG3svRmW0zqAhyPf7FI\"',\n",
      "            'id': 'UceaB4D0jpo',\n",
      "            'kind': 'youtube#video',\n",
      "            'snippet': {'categoryId': '10',\n",
      "                        'channelId': 'UCOhtMAg7xh8wv_wUHMgFc-Q',\n",
      "                        'channelTitle': 'PostMaloneVEVO',\n",
      "                        'defaultAudioLanguage': 'en-US',\n",
      "                        'description': 'rockstar ft. 21 Savage (Official '\n",
      "                                       'Video)\\n'\n",
      "                                       'Song Available Here: '\n",
      "                                       'https://PostMalone.lnk.to/rsYD \\n'\n",
      "                                       '\\n'\n",
      "                                       'Connect with Post Malone:\\n'\n",
      "                                       'https://www.facebook.com/postmalone \\n'\n",
      "                                       'https://twitter.com/postmalone \\n'\n",
      "                                       'https://instagram.com/postmalone \\n'\n",
      "                                       'https://soundcloud.com/postmalone \\n'\n",
      "                                       'http://www.postmalone.com  \\n'\n",
      "                                       '\\n'\n",
      "                                       'Director: Emil Nava\\n'\n",
      "                                       'Producer:  MaryAnn Tanedo\\n'\n",
      "                                       'Director Of Photography: Kramer '\n",
      "                                       'Morgenthau\\n'\n",
      "                                       'Editor: Sean Fazende\\n'\n",
      "                                       'For Rojas Vision\\n'\n",
      "                                       '\\n'\n",
      "                                       'Music video by Post Malone performing '\n",
      "                                       'rockstar ft. 21 Savage.  © 2017 '\n",
      "                                       'Republic Records, a division of UMG '\n",
      "                                       'Recordings, Inc.\\n'\n",
      "                                       '\\n'\n",
      "                                       'http://vevo.ly/zMBE75',\n",
      "                        'liveBroadcastContent': 'none',\n",
      "                        'localized': {'description': 'rockstar ft. 21 Savage '\n",
      "                                                     '(Official Video)\\n'\n",
      "                                                     'Song Available Here: '\n",
      "                                                     'https://PostMalone.lnk.to/rsYD \\n'\n",
      "                                                     '\\n'\n",
      "                                                     'Connect with Post '\n",
      "                                                     'Malone:\\n'\n",
      "                                                     'https://www.facebook.com/postmalone \\n'\n",
      "                                                     'https://twitter.com/postmalone \\n'\n",
      "                                                     'https://instagram.com/postmalone \\n'\n",
      "                                                     'https://soundcloud.com/postmalone \\n'\n",
      "                                                     'http://www.postmalone.com  \\n'\n",
      "                                                     '\\n'\n",
      "                                                     'Director: Emil Nava\\n'\n",
      "                                                     'Producer:  MaryAnn '\n",
      "                                                     'Tanedo\\n'\n",
      "                                                     'Director Of Photography: '\n",
      "                                                     'Kramer Morgenthau\\n'\n",
      "                                                     'Editor: Sean Fazende\\n'\n",
      "                                                     'For Rojas Vision\\n'\n",
      "                                                     '\\n'\n",
      "                                                     'Music video by Post '\n",
      "                                                     'Malone performing '\n",
      "                                                     'rockstar ft. 21 Savage.  '\n",
      "                                                     '© 2017 Republic Records, '\n",
      "                                                     'a division of UMG '\n",
      "                                                     'Recordings, Inc.\\n'\n",
      "                                                     '\\n'\n",
      "                                                     'http://vevo.ly/zMBE75',\n",
      "                                      'title': 'Post Malone - rockstar ft. 21 '\n",
      "                                               'Savage'},\n",
      "                        'publishedAt': '2017-11-22T05:00:01.000Z',\n",
      "                        'tags': ['Post Malone new music',\n",
      "                                 'Stoney',\n",
      "                                 'Beer Bongs and Bentleys',\n",
      "                                 'Post Malone tour',\n",
      "                                 'rockstar song',\n",
      "                                 'Post',\n",
      "                                 'Malone',\n",
      "                                 'rockstar',\n",
      "                                 'Universal',\n",
      "                                 'Records',\n",
      "                                 'Hip',\n",
      "                                 'Hop'],\n",
      "                        'thumbnails': {'default': {'height': 90,\n",
      "                                                   'url': 'https://i.ytimg.com/vi/UceaB4D0jpo/default.jpg',\n",
      "                                                   'width': 120},\n",
      "                                       'high': {'height': 360,\n",
      "                                                'url': 'https://i.ytimg.com/vi/UceaB4D0jpo/hqdefault.jpg',\n",
      "                                                'width': 480},\n",
      "                                       'maxres': {'height': 720,\n",
      "                                                  'url': 'https://i.ytimg.com/vi/UceaB4D0jpo/maxresdefault.jpg',\n",
      "                                                  'width': 1280},\n",
      "                                       'medium': {'height': 180,\n",
      "                                                  'url': 'https://i.ytimg.com/vi/UceaB4D0jpo/mqdefault.jpg',\n",
      "                                                  'width': 320},\n",
      "                                       'standard': {'height': 480,\n",
      "                                                    'url': 'https://i.ytimg.com/vi/UceaB4D0jpo/sddefault.jpg',\n",
      "                                                    'width': 640}},\n",
      "                        'title': 'Post Malone - rockstar ft. 21 Savage'},\n",
      "            'statistics': {'commentCount': '290321',\n",
      "                           'dislikeCount': '200686',\n",
      "                           'favoriteCount': '0',\n",
      "                           'likeCount': '5907259',\n",
      "                           'viewCount': '449680363'}}],\n",
      " 'kind': 'youtube#videoListResponse',\n",
      " 'pageInfo': {'resultsPerPage': 1, 'totalResults': 1}}\n"
     ]
    }
   ],
   "source": [
    "crawler.search_list_by_id('UceaB4D0jpo', part = 'snippet, statistics', test = True)"
   ]
  },
  {
   "cell_type": "code",
   "execution_count": 53,
   "metadata": {},
   "outputs": [],
   "source": [
    "working_df['meta'] = working_df.video_id.apply(lambda row: crawler.search_list_by_id(row, part = 'snippet, statistics'))"
   ]
  },
  {
   "cell_type": "code",
   "execution_count": 60,
   "metadata": {},
   "outputs": [
    {
     "data": {
      "text/plain": [
       "'Above & Beyond feat. Alex Vargas - \"All Over The World\" (Official Music Video)'"
      ]
     },
     "execution_count": 60,
     "metadata": {},
     "output_type": "execute_result"
    }
   ],
   "source": [
    "working_df.to_json('test.json', orient = 'records')\n",
    "test_df = pd.read_json('test.json')\n",
    "test_df.iloc[1].meta['items'][0]['snippet']['title']"
   ]
  },
  {
   "cell_type": "code",
   "execution_count": 67,
   "metadata": {},
   "outputs": [],
   "source": [
    "working_df = working_df[pd.isnull(working_df.meta) == False]"
   ]
  },
  {
   "cell_type": "code",
   "execution_count": 68,
   "metadata": {},
   "outputs": [],
   "source": [
    "working_df['title_on_youtube'] = working_df.meta.apply(lambda row: row['items'][0]['snippet']['title'])"
   ]
  },
  {
   "cell_type": "code",
   "execution_count": 69,
   "metadata": {},
   "outputs": [],
   "source": [
    "working_df['channelId'] = working_df.meta.apply(lambda row: row['items'][0]['snippet']['channelId'])"
   ]
  },
  {
   "cell_type": "code",
   "execution_count": 70,
   "metadata": {},
   "outputs": [],
   "source": [
    "working_df['video_viewCount'] = working_df.meta.apply(lambda row : row['items'][0]['statistics']['viewCount'])"
   ]
  },
  {
   "cell_type": "code",
   "execution_count": 81,
   "metadata": {},
   "outputs": [
    {
     "data": {
      "text/html": [
       "<div>\n",
       "<style scoped>\n",
       "    .dataframe tbody tr th:only-of-type {\n",
       "        vertical-align: middle;\n",
       "    }\n",
       "\n",
       "    .dataframe tbody tr th {\n",
       "        vertical-align: top;\n",
       "    }\n",
       "\n",
       "    .dataframe thead th {\n",
       "        text-align: right;\n",
       "    }\n",
       "</style>\n",
       "<table border=\"1\" class=\"dataframe\">\n",
       "  <thead>\n",
       "    <tr style=\"text-align: right;\">\n",
       "      <th></th>\n",
       "      <th>artist</th>\n",
       "      <th>song_title</th>\n",
       "      <th>duration</th>\n",
       "      <th>player_width</th>\n",
       "      <th>player_height</th>\n",
       "      <th>video_id</th>\n",
       "      <th>y</th>\n",
       "      <th>search_keyword</th>\n",
       "      <th>meta</th>\n",
       "      <th>title_on_youtube</th>\n",
       "      <th>channelId</th>\n",
       "      <th>video_viewCount</th>\n",
       "    </tr>\n",
       "  </thead>\n",
       "  <tbody>\n",
       "    <tr>\n",
       "      <th>0</th>\n",
       "      <td>Post Malone</td>\n",
       "      <td>rockstar (feat. 21 Savage)</td>\n",
       "      <td>241.87</td>\n",
       "      <td>1280</td>\n",
       "      <td>720</td>\n",
       "      <td>UceaB4D0jpo</td>\n",
       "      <td>1</td>\n",
       "      <td>rockstar (feat. 21 Savage) - Post Malone</td>\n",
       "      <td>{'kind': 'youtube#videoListResponse', 'etag': ...</td>\n",
       "      <td>Post Malone - rockstar ft. 21 Savage</td>\n",
       "      <td>UCOhtMAg7xh8wv_wUHMgFc-Q</td>\n",
       "      <td>449680363</td>\n",
       "    </tr>\n",
       "    <tr>\n",
       "      <th>1</th>\n",
       "      <td>Above &amp; Beyond</td>\n",
       "      <td>All Over the World (feat. Alex Vargas)</td>\n",
       "      <td>270.77</td>\n",
       "      <td>1280</td>\n",
       "      <td>676</td>\n",
       "      <td>U-zC8BkPBZM</td>\n",
       "      <td>1</td>\n",
       "      <td>All Over the World (feat. Alex Vargas) - Above...</td>\n",
       "      <td>{'kind': 'youtube#videoListResponse', 'etag': ...</td>\n",
       "      <td>Above &amp; Beyond feat. Alex Vargas - \"All Over T...</td>\n",
       "      <td>UCVE-ybBDg3UHSUylEVdPAsw</td>\n",
       "      <td>1931778</td>\n",
       "    </tr>\n",
       "    <tr>\n",
       "      <th>2</th>\n",
       "      <td>MAN WITH A MISSION</td>\n",
       "      <td>Find You</td>\n",
       "      <td>325.33</td>\n",
       "      <td>1280</td>\n",
       "      <td>720</td>\n",
       "      <td>rYS9ZdGt9Ko</td>\n",
       "      <td>1</td>\n",
       "      <td>Find You - MAN WITH A MISSION</td>\n",
       "      <td>{'kind': 'youtube#videoListResponse', 'etag': ...</td>\n",
       "      <td>MAN WITH A MISSION 『Find You』</td>\n",
       "      <td>UCCy_q-N7F2FOIZ6ZggHIAKg</td>\n",
       "      <td>1340627</td>\n",
       "    </tr>\n",
       "    <tr>\n",
       "      <th>3</th>\n",
       "      <td>Wally Ballago Seck</td>\n",
       "      <td>Bodioudo</td>\n",
       "      <td>320.52</td>\n",
       "      <td>480</td>\n",
       "      <td>360</td>\n",
       "      <td>E5XzF4c1Lw8</td>\n",
       "      <td>1</td>\n",
       "      <td>Bodioudo - Wally Ballago Seck</td>\n",
       "      <td>{'kind': 'youtube#videoListResponse', 'etag': ...</td>\n",
       "      <td>Wally Ballago Seck - bo dioudo</td>\n",
       "      <td>UCVZXJLPHbOADqiup8XqKcLA</td>\n",
       "      <td>117098</td>\n",
       "    </tr>\n",
       "    <tr>\n",
       "      <th>4</th>\n",
       "      <td>Ben Howard</td>\n",
       "      <td>Nica Libres At Dusk</td>\n",
       "      <td>394.88</td>\n",
       "      <td>1280</td>\n",
       "      <td>720</td>\n",
       "      <td>NzcV8HXE_EI</td>\n",
       "      <td>1</td>\n",
       "      <td>Nica Libres At Dusk - Ben Howard</td>\n",
       "      <td>{'kind': 'youtube#videoListResponse', 'etag': ...</td>\n",
       "      <td>Ben Howard - Nica Libres At Dusk</td>\n",
       "      <td>UCFS0CJgXUt7NjwrUN--vFRg</td>\n",
       "      <td>1624752</td>\n",
       "    </tr>\n",
       "  </tbody>\n",
       "</table>\n",
       "</div>"
      ],
      "text/plain": [
       "               artist                              song_title  duration  \\\n",
       "0         Post Malone              rockstar (feat. 21 Savage)    241.87   \n",
       "1      Above & Beyond  All Over the World (feat. Alex Vargas)    270.77   \n",
       "2  MAN WITH A MISSION                                Find You    325.33   \n",
       "3  Wally Ballago Seck                                Bodioudo    320.52   \n",
       "4          Ben Howard                     Nica Libres At Dusk    394.88   \n",
       "\n",
       "   player_width  player_height     video_id  y  \\\n",
       "0          1280            720  UceaB4D0jpo  1   \n",
       "1          1280            676  U-zC8BkPBZM  1   \n",
       "2          1280            720  rYS9ZdGt9Ko  1   \n",
       "3           480            360  E5XzF4c1Lw8  1   \n",
       "4          1280            720  NzcV8HXE_EI  1   \n",
       "\n",
       "                                      search_keyword  \\\n",
       "0           rockstar (feat. 21 Savage) - Post Malone   \n",
       "1  All Over the World (feat. Alex Vargas) - Above...   \n",
       "2                      Find You - MAN WITH A MISSION   \n",
       "3                      Bodioudo - Wally Ballago Seck   \n",
       "4                   Nica Libres At Dusk - Ben Howard   \n",
       "\n",
       "                                                meta  \\\n",
       "0  {'kind': 'youtube#videoListResponse', 'etag': ...   \n",
       "1  {'kind': 'youtube#videoListResponse', 'etag': ...   \n",
       "2  {'kind': 'youtube#videoListResponse', 'etag': ...   \n",
       "3  {'kind': 'youtube#videoListResponse', 'etag': ...   \n",
       "4  {'kind': 'youtube#videoListResponse', 'etag': ...   \n",
       "\n",
       "                                    title_on_youtube  \\\n",
       "0               Post Malone - rockstar ft. 21 Savage   \n",
       "1  Above & Beyond feat. Alex Vargas - \"All Over T...   \n",
       "2                      MAN WITH A MISSION 『Find You』   \n",
       "3                     Wally Ballago Seck - bo dioudo   \n",
       "4                   Ben Howard - Nica Libres At Dusk   \n",
       "\n",
       "                  channelId video_viewCount  \n",
       "0  UCOhtMAg7xh8wv_wUHMgFc-Q       449680363  \n",
       "1  UCVE-ybBDg3UHSUylEVdPAsw         1931778  \n",
       "2  UCCy_q-N7F2FOIZ6ZggHIAKg         1340627  \n",
       "3  UCVZXJLPHbOADqiup8XqKcLA          117098  \n",
       "4  UCFS0CJgXUt7NjwrUN--vFRg         1624752  "
      ]
     },
     "execution_count": 81,
     "metadata": {},
     "output_type": "execute_result"
    }
   ],
   "source": [
    "working_df.head()"
   ]
  },
  {
   "cell_type": "code",
   "execution_count": 90,
   "metadata": {},
   "outputs": [],
   "source": [
    "working_df['title_on_youtube'] = working_df.title_on_youtube.apply(lambda row: row.lower())"
   ]
  },
  {
   "cell_type": "code",
   "execution_count": 91,
   "metadata": {},
   "outputs": [
    {
     "data": {
      "text/html": [
       "<div>\n",
       "<style scoped>\n",
       "    .dataframe tbody tr th:only-of-type {\n",
       "        vertical-align: middle;\n",
       "    }\n",
       "\n",
       "    .dataframe tbody tr th {\n",
       "        vertical-align: top;\n",
       "    }\n",
       "\n",
       "    .dataframe thead th {\n",
       "        text-align: right;\n",
       "    }\n",
       "</style>\n",
       "<table border=\"1\" class=\"dataframe\">\n",
       "  <thead>\n",
       "    <tr style=\"text-align: right;\">\n",
       "      <th></th>\n",
       "      <th>artist</th>\n",
       "      <th>song_title</th>\n",
       "      <th>duration</th>\n",
       "      <th>player_width</th>\n",
       "      <th>player_height</th>\n",
       "      <th>video_id</th>\n",
       "      <th>y</th>\n",
       "      <th>search_keyword</th>\n",
       "      <th>meta</th>\n",
       "      <th>title_on_youtube</th>\n",
       "      <th>channelId</th>\n",
       "      <th>video_viewCount</th>\n",
       "    </tr>\n",
       "  </thead>\n",
       "  <tbody>\n",
       "    <tr>\n",
       "      <th>0</th>\n",
       "      <td>Post Malone</td>\n",
       "      <td>rockstar (feat. 21 Savage)</td>\n",
       "      <td>241.87</td>\n",
       "      <td>1280</td>\n",
       "      <td>720</td>\n",
       "      <td>UceaB4D0jpo</td>\n",
       "      <td>1</td>\n",
       "      <td>rockstar (feat. 21 Savage) - Post Malone</td>\n",
       "      <td>{'kind': 'youtube#videoListResponse', 'etag': ...</td>\n",
       "      <td>post malone - rockstar ft. 21 savage</td>\n",
       "      <td>UCOhtMAg7xh8wv_wUHMgFc-Q</td>\n",
       "      <td>449680363</td>\n",
       "    </tr>\n",
       "    <tr>\n",
       "      <th>1</th>\n",
       "      <td>Above &amp; Beyond</td>\n",
       "      <td>All Over the World (feat. Alex Vargas)</td>\n",
       "      <td>270.77</td>\n",
       "      <td>1280</td>\n",
       "      <td>676</td>\n",
       "      <td>U-zC8BkPBZM</td>\n",
       "      <td>1</td>\n",
       "      <td>All Over the World (feat. Alex Vargas) - Above...</td>\n",
       "      <td>{'kind': 'youtube#videoListResponse', 'etag': ...</td>\n",
       "      <td>above &amp; beyond feat. alex vargas - \"all over t...</td>\n",
       "      <td>UCVE-ybBDg3UHSUylEVdPAsw</td>\n",
       "      <td>1931778</td>\n",
       "    </tr>\n",
       "    <tr>\n",
       "      <th>2</th>\n",
       "      <td>MAN WITH A MISSION</td>\n",
       "      <td>Find You</td>\n",
       "      <td>325.33</td>\n",
       "      <td>1280</td>\n",
       "      <td>720</td>\n",
       "      <td>rYS9ZdGt9Ko</td>\n",
       "      <td>1</td>\n",
       "      <td>Find You - MAN WITH A MISSION</td>\n",
       "      <td>{'kind': 'youtube#videoListResponse', 'etag': ...</td>\n",
       "      <td>man with a mission 『find you』</td>\n",
       "      <td>UCCy_q-N7F2FOIZ6ZggHIAKg</td>\n",
       "      <td>1340627</td>\n",
       "    </tr>\n",
       "    <tr>\n",
       "      <th>3</th>\n",
       "      <td>Wally Ballago Seck</td>\n",
       "      <td>Bodioudo</td>\n",
       "      <td>320.52</td>\n",
       "      <td>480</td>\n",
       "      <td>360</td>\n",
       "      <td>E5XzF4c1Lw8</td>\n",
       "      <td>1</td>\n",
       "      <td>Bodioudo - Wally Ballago Seck</td>\n",
       "      <td>{'kind': 'youtube#videoListResponse', 'etag': ...</td>\n",
       "      <td>wally ballago seck - bo dioudo</td>\n",
       "      <td>UCVZXJLPHbOADqiup8XqKcLA</td>\n",
       "      <td>117098</td>\n",
       "    </tr>\n",
       "    <tr>\n",
       "      <th>4</th>\n",
       "      <td>Ben Howard</td>\n",
       "      <td>Nica Libres At Dusk</td>\n",
       "      <td>394.88</td>\n",
       "      <td>1280</td>\n",
       "      <td>720</td>\n",
       "      <td>NzcV8HXE_EI</td>\n",
       "      <td>1</td>\n",
       "      <td>Nica Libres At Dusk - Ben Howard</td>\n",
       "      <td>{'kind': 'youtube#videoListResponse', 'etag': ...</td>\n",
       "      <td>ben howard - nica libres at dusk</td>\n",
       "      <td>UCFS0CJgXUt7NjwrUN--vFRg</td>\n",
       "      <td>1624752</td>\n",
       "    </tr>\n",
       "  </tbody>\n",
       "</table>\n",
       "</div>"
      ],
      "text/plain": [
       "               artist                              song_title  duration  \\\n",
       "0         Post Malone              rockstar (feat. 21 Savage)    241.87   \n",
       "1      Above & Beyond  All Over the World (feat. Alex Vargas)    270.77   \n",
       "2  MAN WITH A MISSION                                Find You    325.33   \n",
       "3  Wally Ballago Seck                                Bodioudo    320.52   \n",
       "4          Ben Howard                     Nica Libres At Dusk    394.88   \n",
       "\n",
       "   player_width  player_height     video_id  y  \\\n",
       "0          1280            720  UceaB4D0jpo  1   \n",
       "1          1280            676  U-zC8BkPBZM  1   \n",
       "2          1280            720  rYS9ZdGt9Ko  1   \n",
       "3           480            360  E5XzF4c1Lw8  1   \n",
       "4          1280            720  NzcV8HXE_EI  1   \n",
       "\n",
       "                                      search_keyword  \\\n",
       "0           rockstar (feat. 21 Savage) - Post Malone   \n",
       "1  All Over the World (feat. Alex Vargas) - Above...   \n",
       "2                      Find You - MAN WITH A MISSION   \n",
       "3                      Bodioudo - Wally Ballago Seck   \n",
       "4                   Nica Libres At Dusk - Ben Howard   \n",
       "\n",
       "                                                meta  \\\n",
       "0  {'kind': 'youtube#videoListResponse', 'etag': ...   \n",
       "1  {'kind': 'youtube#videoListResponse', 'etag': ...   \n",
       "2  {'kind': 'youtube#videoListResponse', 'etag': ...   \n",
       "3  {'kind': 'youtube#videoListResponse', 'etag': ...   \n",
       "4  {'kind': 'youtube#videoListResponse', 'etag': ...   \n",
       "\n",
       "                                    title_on_youtube  \\\n",
       "0               post malone - rockstar ft. 21 savage   \n",
       "1  above & beyond feat. alex vargas - \"all over t...   \n",
       "2                      man with a mission 『find you』   \n",
       "3                     wally ballago seck - bo dioudo   \n",
       "4                   ben howard - nica libres at dusk   \n",
       "\n",
       "                  channelId video_viewCount  \n",
       "0  UCOhtMAg7xh8wv_wUHMgFc-Q       449680363  \n",
       "1  UCVE-ybBDg3UHSUylEVdPAsw         1931778  \n",
       "2  UCCy_q-N7F2FOIZ6ZggHIAKg         1340627  \n",
       "3  UCVZXJLPHbOADqiup8XqKcLA          117098  \n",
       "4  UCFS0CJgXUt7NjwrUN--vFRg         1624752  "
      ]
     },
     "execution_count": 91,
     "metadata": {},
     "output_type": "execute_result"
    }
   ],
   "source": [
    "working_df.head()"
   ]
  },
  {
   "cell_type": "code",
   "execution_count": 102,
   "metadata": {},
   "outputs": [],
   "source": [
    "video_marks = ['official music video', 'music video', 'official video']"
   ]
  },
  {
   "cell_type": "code",
   "execution_count": 103,
   "metadata": {},
   "outputs": [],
   "source": [
    "working_df['mv_masking'] = working_df.title_on_youtube.apply(lambda row :  1 if any([i in row for i in video_marks]) == True else 0)"
   ]
  },
  {
   "cell_type": "code",
   "execution_count": 221,
   "metadata": {},
   "outputs": [
    {
     "data": {
      "text/html": [
       "<div>\n",
       "<style scoped>\n",
       "    .dataframe tbody tr th:only-of-type {\n",
       "        vertical-align: middle;\n",
       "    }\n",
       "\n",
       "    .dataframe tbody tr th {\n",
       "        vertical-align: top;\n",
       "    }\n",
       "\n",
       "    .dataframe thead th {\n",
       "        text-align: right;\n",
       "    }\n",
       "</style>\n",
       "<table border=\"1\" class=\"dataframe\">\n",
       "  <thead>\n",
       "    <tr style=\"text-align: right;\">\n",
       "      <th></th>\n",
       "      <th>artist</th>\n",
       "      <th>channelId</th>\n",
       "      <th>duration</th>\n",
       "      <th>meta</th>\n",
       "      <th>mv_masking</th>\n",
       "      <th>player_height</th>\n",
       "      <th>player_width</th>\n",
       "      <th>search_keyword</th>\n",
       "      <th>song_title</th>\n",
       "      <th>title_on_youtube</th>\n",
       "      <th>video_id</th>\n",
       "      <th>video_viewCount</th>\n",
       "      <th>y</th>\n",
       "      <th>channel_meta</th>\n",
       "      <th>channel_subCount</th>\n",
       "      <th>channel_viewCount</th>\n",
       "    </tr>\n",
       "  </thead>\n",
       "  <tbody>\n",
       "    <tr>\n",
       "      <th>0</th>\n",
       "      <td>Post Malone</td>\n",
       "      <td>UCOhtMAg7xh8wv_wUHMgFc-Q</td>\n",
       "      <td>241.87</td>\n",
       "      <td>{'kind': 'youtube#videoListResponse', 'etag': ...</td>\n",
       "      <td>0</td>\n",
       "      <td>720</td>\n",
       "      <td>1280</td>\n",
       "      <td>rockstar (feat. 21 Savage) - Post Malone</td>\n",
       "      <td>rockstar (feat. 21 Savage)</td>\n",
       "      <td>post malone - rockstar ft. 21 savage</td>\n",
       "      <td>UceaB4D0jpo</td>\n",
       "      <td>449680363</td>\n",
       "      <td>1</td>\n",
       "      <td>{'kind': 'youtube#channelListResponse', 'etag'...</td>\n",
       "      <td>4152281</td>\n",
       "      <td>2423719656</td>\n",
       "    </tr>\n",
       "    <tr>\n",
       "      <th>1</th>\n",
       "      <td>Above &amp; Beyond</td>\n",
       "      <td>UCVE-ybBDg3UHSUylEVdPAsw</td>\n",
       "      <td>270.77</td>\n",
       "      <td>{'kind': 'youtube#videoListResponse', 'etag': ...</td>\n",
       "      <td>1</td>\n",
       "      <td>676</td>\n",
       "      <td>1280</td>\n",
       "      <td>All Over the World (feat. Alex Vargas) - Above...</td>\n",
       "      <td>All Over the World (feat. Alex Vargas)</td>\n",
       "      <td>above &amp; beyond feat. alex vargas - \"all over t...</td>\n",
       "      <td>U-zC8BkPBZM</td>\n",
       "      <td>1931778</td>\n",
       "      <td>1</td>\n",
       "      <td>{'kind': 'youtube#channelListResponse', 'etag'...</td>\n",
       "      <td>601202</td>\n",
       "      <td>196598047</td>\n",
       "    </tr>\n",
       "    <tr>\n",
       "      <th>2</th>\n",
       "      <td>MAN WITH A MISSION</td>\n",
       "      <td>UCCy_q-N7F2FOIZ6ZggHIAKg</td>\n",
       "      <td>325.33</td>\n",
       "      <td>{'kind': 'youtube#videoListResponse', 'etag': ...</td>\n",
       "      <td>0</td>\n",
       "      <td>720</td>\n",
       "      <td>1280</td>\n",
       "      <td>Find You - MAN WITH A MISSION</td>\n",
       "      <td>Find You</td>\n",
       "      <td>man with a mission 『find you』</td>\n",
       "      <td>rYS9ZdGt9Ko</td>\n",
       "      <td>1340627</td>\n",
       "      <td>1</td>\n",
       "      <td>{'kind': 'youtube#channelListResponse', 'etag'...</td>\n",
       "      <td>1387084</td>\n",
       "      <td>1583887822</td>\n",
       "    </tr>\n",
       "    <tr>\n",
       "      <th>3</th>\n",
       "      <td>Wally Ballago Seck</td>\n",
       "      <td>UCVZXJLPHbOADqiup8XqKcLA</td>\n",
       "      <td>320.52</td>\n",
       "      <td>{'kind': 'youtube#videoListResponse', 'etag': ...</td>\n",
       "      <td>0</td>\n",
       "      <td>360</td>\n",
       "      <td>480</td>\n",
       "      <td>Bodioudo - Wally Ballago Seck</td>\n",
       "      <td>Bodioudo</td>\n",
       "      <td>wally ballago seck - bo dioudo</td>\n",
       "      <td>E5XzF4c1Lw8</td>\n",
       "      <td>117098</td>\n",
       "      <td>1</td>\n",
       "      <td>{'kind': 'youtube#channelListResponse', 'etag'...</td>\n",
       "      <td>15217</td>\n",
       "      <td>8795785</td>\n",
       "    </tr>\n",
       "    <tr>\n",
       "      <th>4</th>\n",
       "      <td>Ben Howard</td>\n",
       "      <td>UCFS0CJgXUt7NjwrUN--vFRg</td>\n",
       "      <td>394.88</td>\n",
       "      <td>{'kind': 'youtube#videoListResponse', 'etag': ...</td>\n",
       "      <td>0</td>\n",
       "      <td>720</td>\n",
       "      <td>1280</td>\n",
       "      <td>Nica Libres At Dusk - Ben Howard</td>\n",
       "      <td>Nica Libres At Dusk</td>\n",
       "      <td>ben howard - nica libres at dusk</td>\n",
       "      <td>NzcV8HXE_EI</td>\n",
       "      <td>1624752</td>\n",
       "      <td>1</td>\n",
       "      <td>{'kind': 'youtube#channelListResponse', 'etag'...</td>\n",
       "      <td>209566</td>\n",
       "      <td>101654143</td>\n",
       "    </tr>\n",
       "  </tbody>\n",
       "</table>\n",
       "</div>"
      ],
      "text/plain": [
       "               artist                 channelId  duration  \\\n",
       "0         Post Malone  UCOhtMAg7xh8wv_wUHMgFc-Q    241.87   \n",
       "1      Above & Beyond  UCVE-ybBDg3UHSUylEVdPAsw    270.77   \n",
       "2  MAN WITH A MISSION  UCCy_q-N7F2FOIZ6ZggHIAKg    325.33   \n",
       "3  Wally Ballago Seck  UCVZXJLPHbOADqiup8XqKcLA    320.52   \n",
       "4          Ben Howard  UCFS0CJgXUt7NjwrUN--vFRg    394.88   \n",
       "\n",
       "                                                meta  mv_masking  \\\n",
       "0  {'kind': 'youtube#videoListResponse', 'etag': ...           0   \n",
       "1  {'kind': 'youtube#videoListResponse', 'etag': ...           1   \n",
       "2  {'kind': 'youtube#videoListResponse', 'etag': ...           0   \n",
       "3  {'kind': 'youtube#videoListResponse', 'etag': ...           0   \n",
       "4  {'kind': 'youtube#videoListResponse', 'etag': ...           0   \n",
       "\n",
       "   player_height  player_width  \\\n",
       "0            720          1280   \n",
       "1            676          1280   \n",
       "2            720          1280   \n",
       "3            360           480   \n",
       "4            720          1280   \n",
       "\n",
       "                                      search_keyword  \\\n",
       "0           rockstar (feat. 21 Savage) - Post Malone   \n",
       "1  All Over the World (feat. Alex Vargas) - Above...   \n",
       "2                      Find You - MAN WITH A MISSION   \n",
       "3                      Bodioudo - Wally Ballago Seck   \n",
       "4                   Nica Libres At Dusk - Ben Howard   \n",
       "\n",
       "                               song_title  \\\n",
       "0              rockstar (feat. 21 Savage)   \n",
       "1  All Over the World (feat. Alex Vargas)   \n",
       "2                                Find You   \n",
       "3                                Bodioudo   \n",
       "4                     Nica Libres At Dusk   \n",
       "\n",
       "                                    title_on_youtube     video_id  \\\n",
       "0               post malone - rockstar ft. 21 savage  UceaB4D0jpo   \n",
       "1  above & beyond feat. alex vargas - \"all over t...  U-zC8BkPBZM   \n",
       "2                      man with a mission 『find you』  rYS9ZdGt9Ko   \n",
       "3                     wally ballago seck - bo dioudo  E5XzF4c1Lw8   \n",
       "4                   ben howard - nica libres at dusk  NzcV8HXE_EI   \n",
       "\n",
       "   video_viewCount  y                                       channel_meta  \\\n",
       "0        449680363  1  {'kind': 'youtube#channelListResponse', 'etag'...   \n",
       "1          1931778  1  {'kind': 'youtube#channelListResponse', 'etag'...   \n",
       "2          1340627  1  {'kind': 'youtube#channelListResponse', 'etag'...   \n",
       "3           117098  1  {'kind': 'youtube#channelListResponse', 'etag'...   \n",
       "4          1624752  1  {'kind': 'youtube#channelListResponse', 'etag'...   \n",
       "\n",
       "  channel_subCount channel_viewCount  \n",
       "0          4152281        2423719656  \n",
       "1           601202         196598047  \n",
       "2          1387084        1583887822  \n",
       "3            15217           8795785  \n",
       "4           209566         101654143  "
      ]
     },
     "execution_count": 221,
     "metadata": {},
     "output_type": "execute_result"
    }
   ],
   "source": [
    "working_df.head()"
   ]
  },
  {
   "cell_type": "code",
   "execution_count": 222,
   "metadata": {},
   "outputs": [],
   "source": [
    "working_df.to_json('test.json', orient = 'records')"
   ]
  },
  {
   "cell_type": "code",
   "execution_count": 8,
   "metadata": {},
   "outputs": [],
   "source": [
    "working_df = pd.read_json('test.json')"
   ]
  },
  {
   "cell_type": "code",
   "execution_count": 9,
   "metadata": {},
   "outputs": [
    {
     "data": {
      "text/html": [
       "<div>\n",
       "<style scoped>\n",
       "    .dataframe tbody tr th:only-of-type {\n",
       "        vertical-align: middle;\n",
       "    }\n",
       "\n",
       "    .dataframe tbody tr th {\n",
       "        vertical-align: top;\n",
       "    }\n",
       "\n",
       "    .dataframe thead th {\n",
       "        text-align: right;\n",
       "    }\n",
       "</style>\n",
       "<table border=\"1\" class=\"dataframe\">\n",
       "  <thead>\n",
       "    <tr style=\"text-align: right;\">\n",
       "      <th></th>\n",
       "      <th>artist</th>\n",
       "      <th>channelId</th>\n",
       "      <th>duration</th>\n",
       "      <th>meta</th>\n",
       "      <th>mv_masking</th>\n",
       "      <th>player_height</th>\n",
       "      <th>player_width</th>\n",
       "      <th>search_keyword</th>\n",
       "      <th>song_title</th>\n",
       "      <th>title_on_youtube</th>\n",
       "      <th>video_id</th>\n",
       "      <th>video_viewCount</th>\n",
       "      <th>y</th>\n",
       "    </tr>\n",
       "  </thead>\n",
       "  <tbody>\n",
       "    <tr>\n",
       "      <th>0</th>\n",
       "      <td>Post Malone</td>\n",
       "      <td>UCOhtMAg7xh8wv_wUHMgFc-Q</td>\n",
       "      <td>241.87</td>\n",
       "      <td>{'kind': 'youtube#videoListResponse', 'etag': ...</td>\n",
       "      <td>0</td>\n",
       "      <td>720</td>\n",
       "      <td>1280</td>\n",
       "      <td>rockstar (feat. 21 Savage) - Post Malone</td>\n",
       "      <td>rockstar (feat. 21 Savage)</td>\n",
       "      <td>post malone - rockstar ft. 21 savage</td>\n",
       "      <td>UceaB4D0jpo</td>\n",
       "      <td>449680363</td>\n",
       "      <td>1</td>\n",
       "    </tr>\n",
       "    <tr>\n",
       "      <th>1</th>\n",
       "      <td>Above &amp; Beyond</td>\n",
       "      <td>UCVE-ybBDg3UHSUylEVdPAsw</td>\n",
       "      <td>270.77</td>\n",
       "      <td>{'kind': 'youtube#videoListResponse', 'etag': ...</td>\n",
       "      <td>1</td>\n",
       "      <td>676</td>\n",
       "      <td>1280</td>\n",
       "      <td>All Over the World (feat. Alex Vargas) - Above...</td>\n",
       "      <td>All Over the World (feat. Alex Vargas)</td>\n",
       "      <td>above &amp; beyond feat. alex vargas - \"all over t...</td>\n",
       "      <td>U-zC8BkPBZM</td>\n",
       "      <td>1931778</td>\n",
       "      <td>1</td>\n",
       "    </tr>\n",
       "    <tr>\n",
       "      <th>2</th>\n",
       "      <td>MAN WITH A MISSION</td>\n",
       "      <td>UCCy_q-N7F2FOIZ6ZggHIAKg</td>\n",
       "      <td>325.33</td>\n",
       "      <td>{'kind': 'youtube#videoListResponse', 'etag': ...</td>\n",
       "      <td>0</td>\n",
       "      <td>720</td>\n",
       "      <td>1280</td>\n",
       "      <td>Find You - MAN WITH A MISSION</td>\n",
       "      <td>Find You</td>\n",
       "      <td>man with a mission 『find you』</td>\n",
       "      <td>rYS9ZdGt9Ko</td>\n",
       "      <td>1340627</td>\n",
       "      <td>1</td>\n",
       "    </tr>\n",
       "    <tr>\n",
       "      <th>3</th>\n",
       "      <td>Wally Ballago Seck</td>\n",
       "      <td>UCVZXJLPHbOADqiup8XqKcLA</td>\n",
       "      <td>320.52</td>\n",
       "      <td>{'kind': 'youtube#videoListResponse', 'etag': ...</td>\n",
       "      <td>0</td>\n",
       "      <td>360</td>\n",
       "      <td>480</td>\n",
       "      <td>Bodioudo - Wally Ballago Seck</td>\n",
       "      <td>Bodioudo</td>\n",
       "      <td>wally ballago seck - bo dioudo</td>\n",
       "      <td>E5XzF4c1Lw8</td>\n",
       "      <td>117098</td>\n",
       "      <td>1</td>\n",
       "    </tr>\n",
       "    <tr>\n",
       "      <th>4</th>\n",
       "      <td>Ben Howard</td>\n",
       "      <td>UCFS0CJgXUt7NjwrUN--vFRg</td>\n",
       "      <td>394.88</td>\n",
       "      <td>{'kind': 'youtube#videoListResponse', 'etag': ...</td>\n",
       "      <td>0</td>\n",
       "      <td>720</td>\n",
       "      <td>1280</td>\n",
       "      <td>Nica Libres At Dusk - Ben Howard</td>\n",
       "      <td>Nica Libres At Dusk</td>\n",
       "      <td>ben howard - nica libres at dusk</td>\n",
       "      <td>NzcV8HXE_EI</td>\n",
       "      <td>1624752</td>\n",
       "      <td>1</td>\n",
       "    </tr>\n",
       "  </tbody>\n",
       "</table>\n",
       "</div>"
      ],
      "text/plain": [
       "               artist                 channelId  duration  \\\n",
       "0         Post Malone  UCOhtMAg7xh8wv_wUHMgFc-Q    241.87   \n",
       "1      Above & Beyond  UCVE-ybBDg3UHSUylEVdPAsw    270.77   \n",
       "2  MAN WITH A MISSION  UCCy_q-N7F2FOIZ6ZggHIAKg    325.33   \n",
       "3  Wally Ballago Seck  UCVZXJLPHbOADqiup8XqKcLA    320.52   \n",
       "4          Ben Howard  UCFS0CJgXUt7NjwrUN--vFRg    394.88   \n",
       "\n",
       "                                                meta  mv_masking  \\\n",
       "0  {'kind': 'youtube#videoListResponse', 'etag': ...           0   \n",
       "1  {'kind': 'youtube#videoListResponse', 'etag': ...           1   \n",
       "2  {'kind': 'youtube#videoListResponse', 'etag': ...           0   \n",
       "3  {'kind': 'youtube#videoListResponse', 'etag': ...           0   \n",
       "4  {'kind': 'youtube#videoListResponse', 'etag': ...           0   \n",
       "\n",
       "   player_height  player_width  \\\n",
       "0            720          1280   \n",
       "1            676          1280   \n",
       "2            720          1280   \n",
       "3            360           480   \n",
       "4            720          1280   \n",
       "\n",
       "                                      search_keyword  \\\n",
       "0           rockstar (feat. 21 Savage) - Post Malone   \n",
       "1  All Over the World (feat. Alex Vargas) - Above...   \n",
       "2                      Find You - MAN WITH A MISSION   \n",
       "3                      Bodioudo - Wally Ballago Seck   \n",
       "4                   Nica Libres At Dusk - Ben Howard   \n",
       "\n",
       "                               song_title  \\\n",
       "0              rockstar (feat. 21 Savage)   \n",
       "1  All Over the World (feat. Alex Vargas)   \n",
       "2                                Find You   \n",
       "3                                Bodioudo   \n",
       "4                     Nica Libres At Dusk   \n",
       "\n",
       "                                    title_on_youtube     video_id  \\\n",
       "0               post malone - rockstar ft. 21 savage  UceaB4D0jpo   \n",
       "1  above & beyond feat. alex vargas - \"all over t...  U-zC8BkPBZM   \n",
       "2                      man with a mission 『find you』  rYS9ZdGt9Ko   \n",
       "3                     wally ballago seck - bo dioudo  E5XzF4c1Lw8   \n",
       "4                   ben howard - nica libres at dusk  NzcV8HXE_EI   \n",
       "\n",
       "   video_viewCount  y  \n",
       "0        449680363  1  \n",
       "1          1931778  1  \n",
       "2          1340627  1  \n",
       "3           117098  1  \n",
       "4          1624752  1  "
      ]
     },
     "execution_count": 9,
     "metadata": {},
     "output_type": "execute_result"
    }
   ],
   "source": [
    "working_df.head()"
   ]
  },
  {
   "cell_type": "code",
   "execution_count": 120,
   "metadata": {},
   "outputs": [],
   "source": [
    "from youtube_api_crawler import crawler_api as crawler"
   ]
  },
  {
   "cell_type": "code",
   "execution_count": 11,
   "metadata": {},
   "outputs": [],
   "source": [
    "working_df['channel_meta'] = working_df.channelId.apply(lambda row : crawler.search_list_by_channel(row, part = 'snippet, statistics'))"
   ]
  },
  {
   "cell_type": "code",
   "execution_count": 20,
   "metadata": {},
   "outputs": [
    {
     "data": {
      "text/plain": [
       "'2423719656'"
      ]
     },
     "execution_count": 20,
     "metadata": {},
     "output_type": "execute_result"
    }
   ],
   "source": [
    "working_df.iloc[0].channel_meta['items'][0]['statistics']['viewCount']"
   ]
  },
  {
   "cell_type": "code",
   "execution_count": 23,
   "metadata": {},
   "outputs": [],
   "source": [
    "working_df = working_df[pd.isnull(working_df.channel_meta) == False]"
   ]
  },
  {
   "cell_type": "code",
   "execution_count": 25,
   "metadata": {},
   "outputs": [],
   "source": [
    "working_df['channel_subCount'] = working_df.channel_meta.apply(lambda row: row['items'][0]['statistics']['subscriberCount'])\n",
    "working_df['channel_viewCount'] = working_df.channel_meta.apply(lambda row: row['items'][0]['statistics']['viewCount'])"
   ]
  },
  {
   "cell_type": "code",
   "execution_count": 29,
   "metadata": {},
   "outputs": [
    {
     "data": {
      "text/html": [
       "<div>\n",
       "<style scoped>\n",
       "    .dataframe tbody tr th:only-of-type {\n",
       "        vertical-align: middle;\n",
       "    }\n",
       "\n",
       "    .dataframe tbody tr th {\n",
       "        vertical-align: top;\n",
       "    }\n",
       "\n",
       "    .dataframe thead th {\n",
       "        text-align: right;\n",
       "    }\n",
       "</style>\n",
       "<table border=\"1\" class=\"dataframe\">\n",
       "  <thead>\n",
       "    <tr style=\"text-align: right;\">\n",
       "      <th></th>\n",
       "      <th>artist</th>\n",
       "      <th>channelId</th>\n",
       "      <th>duration</th>\n",
       "      <th>meta</th>\n",
       "      <th>mv_masking</th>\n",
       "      <th>player_height</th>\n",
       "      <th>player_width</th>\n",
       "      <th>search_keyword</th>\n",
       "      <th>song_title</th>\n",
       "      <th>title_on_youtube</th>\n",
       "      <th>video_id</th>\n",
       "      <th>video_viewCount</th>\n",
       "      <th>y</th>\n",
       "      <th>channel_meta</th>\n",
       "      <th>channel_subCount</th>\n",
       "      <th>channel_viewCount</th>\n",
       "    </tr>\n",
       "  </thead>\n",
       "  <tbody>\n",
       "    <tr>\n",
       "      <th>0</th>\n",
       "      <td>Post Malone</td>\n",
       "      <td>UCOhtMAg7xh8wv_wUHMgFc-Q</td>\n",
       "      <td>241.87</td>\n",
       "      <td>{'kind': 'youtube#videoListResponse', 'etag': ...</td>\n",
       "      <td>0</td>\n",
       "      <td>720</td>\n",
       "      <td>1280</td>\n",
       "      <td>rockstar (feat. 21 Savage) - Post Malone</td>\n",
       "      <td>rockstar (feat. 21 Savage)</td>\n",
       "      <td>post malone - rockstar ft. 21 savage</td>\n",
       "      <td>UceaB4D0jpo</td>\n",
       "      <td>449680363</td>\n",
       "      <td>1</td>\n",
       "      <td>{'kind': 'youtube#channelListResponse', 'etag'...</td>\n",
       "      <td>4152281</td>\n",
       "      <td>2423719656</td>\n",
       "    </tr>\n",
       "    <tr>\n",
       "      <th>1</th>\n",
       "      <td>Above &amp; Beyond</td>\n",
       "      <td>UCVE-ybBDg3UHSUylEVdPAsw</td>\n",
       "      <td>270.77</td>\n",
       "      <td>{'kind': 'youtube#videoListResponse', 'etag': ...</td>\n",
       "      <td>1</td>\n",
       "      <td>676</td>\n",
       "      <td>1280</td>\n",
       "      <td>All Over the World (feat. Alex Vargas) - Above...</td>\n",
       "      <td>All Over the World (feat. Alex Vargas)</td>\n",
       "      <td>above &amp; beyond feat. alex vargas - \"all over t...</td>\n",
       "      <td>U-zC8BkPBZM</td>\n",
       "      <td>1931778</td>\n",
       "      <td>1</td>\n",
       "      <td>{'kind': 'youtube#channelListResponse', 'etag'...</td>\n",
       "      <td>601202</td>\n",
       "      <td>196598047</td>\n",
       "    </tr>\n",
       "    <tr>\n",
       "      <th>2</th>\n",
       "      <td>MAN WITH A MISSION</td>\n",
       "      <td>UCCy_q-N7F2FOIZ6ZggHIAKg</td>\n",
       "      <td>325.33</td>\n",
       "      <td>{'kind': 'youtube#videoListResponse', 'etag': ...</td>\n",
       "      <td>0</td>\n",
       "      <td>720</td>\n",
       "      <td>1280</td>\n",
       "      <td>Find You - MAN WITH A MISSION</td>\n",
       "      <td>Find You</td>\n",
       "      <td>man with a mission 『find you』</td>\n",
       "      <td>rYS9ZdGt9Ko</td>\n",
       "      <td>1340627</td>\n",
       "      <td>1</td>\n",
       "      <td>{'kind': 'youtube#channelListResponse', 'etag'...</td>\n",
       "      <td>1387084</td>\n",
       "      <td>1583887822</td>\n",
       "    </tr>\n",
       "    <tr>\n",
       "      <th>3</th>\n",
       "      <td>Wally Ballago Seck</td>\n",
       "      <td>UCVZXJLPHbOADqiup8XqKcLA</td>\n",
       "      <td>320.52</td>\n",
       "      <td>{'kind': 'youtube#videoListResponse', 'etag': ...</td>\n",
       "      <td>0</td>\n",
       "      <td>360</td>\n",
       "      <td>480</td>\n",
       "      <td>Bodioudo - Wally Ballago Seck</td>\n",
       "      <td>Bodioudo</td>\n",
       "      <td>wally ballago seck - bo dioudo</td>\n",
       "      <td>E5XzF4c1Lw8</td>\n",
       "      <td>117098</td>\n",
       "      <td>1</td>\n",
       "      <td>{'kind': 'youtube#channelListResponse', 'etag'...</td>\n",
       "      <td>15217</td>\n",
       "      <td>8795785</td>\n",
       "    </tr>\n",
       "    <tr>\n",
       "      <th>4</th>\n",
       "      <td>Ben Howard</td>\n",
       "      <td>UCFS0CJgXUt7NjwrUN--vFRg</td>\n",
       "      <td>394.88</td>\n",
       "      <td>{'kind': 'youtube#videoListResponse', 'etag': ...</td>\n",
       "      <td>0</td>\n",
       "      <td>720</td>\n",
       "      <td>1280</td>\n",
       "      <td>Nica Libres At Dusk - Ben Howard</td>\n",
       "      <td>Nica Libres At Dusk</td>\n",
       "      <td>ben howard - nica libres at dusk</td>\n",
       "      <td>NzcV8HXE_EI</td>\n",
       "      <td>1624752</td>\n",
       "      <td>1</td>\n",
       "      <td>{'kind': 'youtube#channelListResponse', 'etag'...</td>\n",
       "      <td>209566</td>\n",
       "      <td>101654143</td>\n",
       "    </tr>\n",
       "  </tbody>\n",
       "</table>\n",
       "</div>"
      ],
      "text/plain": [
       "               artist                 channelId  duration  \\\n",
       "0         Post Malone  UCOhtMAg7xh8wv_wUHMgFc-Q    241.87   \n",
       "1      Above & Beyond  UCVE-ybBDg3UHSUylEVdPAsw    270.77   \n",
       "2  MAN WITH A MISSION  UCCy_q-N7F2FOIZ6ZggHIAKg    325.33   \n",
       "3  Wally Ballago Seck  UCVZXJLPHbOADqiup8XqKcLA    320.52   \n",
       "4          Ben Howard  UCFS0CJgXUt7NjwrUN--vFRg    394.88   \n",
       "\n",
       "                                                meta  mv_masking  \\\n",
       "0  {'kind': 'youtube#videoListResponse', 'etag': ...           0   \n",
       "1  {'kind': 'youtube#videoListResponse', 'etag': ...           1   \n",
       "2  {'kind': 'youtube#videoListResponse', 'etag': ...           0   \n",
       "3  {'kind': 'youtube#videoListResponse', 'etag': ...           0   \n",
       "4  {'kind': 'youtube#videoListResponse', 'etag': ...           0   \n",
       "\n",
       "   player_height  player_width  \\\n",
       "0            720          1280   \n",
       "1            676          1280   \n",
       "2            720          1280   \n",
       "3            360           480   \n",
       "4            720          1280   \n",
       "\n",
       "                                      search_keyword  \\\n",
       "0           rockstar (feat. 21 Savage) - Post Malone   \n",
       "1  All Over the World (feat. Alex Vargas) - Above...   \n",
       "2                      Find You - MAN WITH A MISSION   \n",
       "3                      Bodioudo - Wally Ballago Seck   \n",
       "4                   Nica Libres At Dusk - Ben Howard   \n",
       "\n",
       "                               song_title  \\\n",
       "0              rockstar (feat. 21 Savage)   \n",
       "1  All Over the World (feat. Alex Vargas)   \n",
       "2                                Find You   \n",
       "3                                Bodioudo   \n",
       "4                     Nica Libres At Dusk   \n",
       "\n",
       "                                    title_on_youtube     video_id  \\\n",
       "0               post malone - rockstar ft. 21 savage  UceaB4D0jpo   \n",
       "1  above & beyond feat. alex vargas - \"all over t...  U-zC8BkPBZM   \n",
       "2                      man with a mission 『find you』  rYS9ZdGt9Ko   \n",
       "3                     wally ballago seck - bo dioudo  E5XzF4c1Lw8   \n",
       "4                   ben howard - nica libres at dusk  NzcV8HXE_EI   \n",
       "\n",
       "   video_viewCount  y                                       channel_meta  \\\n",
       "0        449680363  1  {'kind': 'youtube#channelListResponse', 'etag'...   \n",
       "1          1931778  1  {'kind': 'youtube#channelListResponse', 'etag'...   \n",
       "2          1340627  1  {'kind': 'youtube#channelListResponse', 'etag'...   \n",
       "3           117098  1  {'kind': 'youtube#channelListResponse', 'etag'...   \n",
       "4          1624752  1  {'kind': 'youtube#channelListResponse', 'etag'...   \n",
       "\n",
       "  channel_subCount channel_viewCount  \n",
       "0          4152281        2423719656  \n",
       "1           601202         196598047  \n",
       "2          1387084        1583887822  \n",
       "3            15217           8795785  \n",
       "4           209566         101654143  "
      ]
     },
     "execution_count": 29,
     "metadata": {},
     "output_type": "execute_result"
    }
   ],
   "source": [
    "working_df.head()"
   ]
  },
  {
   "cell_type": "code",
   "execution_count": 173,
   "metadata": {},
   "outputs": [],
   "source": [
    "features = ['video_viewCount','channel_subCount','mv_masking','non_mv_marking']\n"
   ]
  },
  {
   "cell_type": "code",
   "execution_count": 174,
   "metadata": {},
   "outputs": [],
   "source": [
    "non_mv_marks = ['audio', 'lyric','offcial audio']"
   ]
  },
  {
   "cell_type": "code",
   "execution_count": 175,
   "metadata": {},
   "outputs": [
    {
     "data": {
      "text/html": [
       "<div>\n",
       "<style scoped>\n",
       "    .dataframe tbody tr th:only-of-type {\n",
       "        vertical-align: middle;\n",
       "    }\n",
       "\n",
       "    .dataframe tbody tr th {\n",
       "        vertical-align: top;\n",
       "    }\n",
       "\n",
       "    .dataframe thead th {\n",
       "        text-align: right;\n",
       "    }\n",
       "</style>\n",
       "<table border=\"1\" class=\"dataframe\">\n",
       "  <thead>\n",
       "    <tr style=\"text-align: right;\">\n",
       "      <th></th>\n",
       "      <th>video_viewCount</th>\n",
       "      <th>channel_subCount</th>\n",
       "      <th>mv_masking</th>\n",
       "      <th>non_mv_marking</th>\n",
       "    </tr>\n",
       "  </thead>\n",
       "  <tbody>\n",
       "    <tr>\n",
       "      <th>0</th>\n",
       "      <td>449680363</td>\n",
       "      <td>4152281</td>\n",
       "      <td>0</td>\n",
       "      <td>0</td>\n",
       "    </tr>\n",
       "    <tr>\n",
       "      <th>1</th>\n",
       "      <td>1931778</td>\n",
       "      <td>601202</td>\n",
       "      <td>1</td>\n",
       "      <td>0</td>\n",
       "    </tr>\n",
       "    <tr>\n",
       "      <th>2</th>\n",
       "      <td>1340627</td>\n",
       "      <td>1387084</td>\n",
       "      <td>0</td>\n",
       "      <td>0</td>\n",
       "    </tr>\n",
       "    <tr>\n",
       "      <th>3</th>\n",
       "      <td>117098</td>\n",
       "      <td>15217</td>\n",
       "      <td>0</td>\n",
       "      <td>0</td>\n",
       "    </tr>\n",
       "    <tr>\n",
       "      <th>4</th>\n",
       "      <td>1624752</td>\n",
       "      <td>209566</td>\n",
       "      <td>0</td>\n",
       "      <td>0</td>\n",
       "    </tr>\n",
       "  </tbody>\n",
       "</table>\n",
       "</div>"
      ],
      "text/plain": [
       "   video_viewCount channel_subCount  mv_masking  non_mv_marking\n",
       "0        449680363          4152281           0               0\n",
       "1          1931778           601202           1               0\n",
       "2          1340627          1387084           0               0\n",
       "3           117098            15217           0               0\n",
       "4          1624752           209566           0               0"
      ]
     },
     "execution_count": 175,
     "metadata": {},
     "output_type": "execute_result"
    }
   ],
   "source": [
    "training_df = working_df.copy()\n",
    "training_df['non_mv_marking'] = training_df.title_on_youtube.apply(lambda row :  1 if any([i in row for i in non_mv_marks]) == True else 0)\n",
    "sub_training_df = training_df[features]\n",
    "sub_training_df.head()"
   ]
  },
  {
   "cell_type": "code",
   "execution_count": 176,
   "metadata": {},
   "outputs": [],
   "source": [
    "from sklearn.preprocessing import normalize"
   ]
  },
  {
   "cell_type": "code",
   "execution_count": 177,
   "metadata": {
    "scrolled": true
   },
   "outputs": [],
   "source": [
    "data_normalized = normalize(sub_training_df, axis = 0, return_norm = True)"
   ]
  },
  {
   "cell_type": "code",
   "execution_count": 178,
   "metadata": {},
   "outputs": [
    {
     "data": {
      "text/plain": [
       "(array([[5.14945313e-02, 1.33319660e-02, 0.00000000e+00, 0.00000000e+00],\n",
       "        [2.21214914e-04, 1.93031364e-03, 3.68354734e-02, 0.00000000e+00],\n",
       "        [1.53520066e-04, 4.45358991e-03, 0.00000000e+00, 0.00000000e+00],\n",
       "        ...,\n",
       "        [4.92408614e-09, 5.77936292e-08, 0.00000000e+00, 0.00000000e+00],\n",
       "        [9.96268592e-07, 1.06166897e-04, 0.00000000e+00, 0.00000000e+00],\n",
       "        [9.61914503e-09, 1.41273316e-07, 0.00000000e+00, 0.00000000e+00]]),\n",
       " array([8.73258484e+09, 3.11453014e+08, 2.71477439e+01, 1.33790882e+01]))"
      ]
     },
     "execution_count": 178,
     "metadata": {},
     "output_type": "execute_result"
    }
   ],
   "source": [
    "data_normalized"
   ]
  },
  {
   "cell_type": "code",
   "execution_count": 179,
   "metadata": {},
   "outputs": [
    {
     "name": "stderr",
     "output_type": "stream",
     "text": [
      "C:\\Users\\KhangPham\\Anaconda3\\lib\\site-packages\\ipykernel_launcher.py:1: SettingWithCopyWarning: \n",
      "A value is trying to be set on a copy of a slice from a DataFrame.\n",
      "Try using .loc[row_indexer,col_indexer] = value instead\n",
      "\n",
      "See the caveats in the documentation: http://pandas.pydata.org/pandas-docs/stable/indexing.html#indexing-view-versus-copy\n",
      "  \"\"\"Entry point for launching an IPython kernel.\n",
      "C:\\Users\\KhangPham\\Anaconda3\\lib\\site-packages\\pandas\\core\\indexing.py:543: SettingWithCopyWarning: \n",
      "A value is trying to be set on a copy of a slice from a DataFrame.\n",
      "Try using .loc[row_indexer,col_indexer] = value instead\n",
      "\n",
      "See the caveats in the documentation: http://pandas.pydata.org/pandas-docs/stable/indexing.html#indexing-view-versus-copy\n",
      "  self.obj[item] = s\n"
     ]
    }
   ],
   "source": [
    "sub_training_df[features]= data_normalized[0]"
   ]
  },
  {
   "cell_type": "code",
   "execution_count": 180,
   "metadata": {},
   "outputs": [
    {
     "data": {
      "text/html": [
       "<div>\n",
       "<style scoped>\n",
       "    .dataframe tbody tr th:only-of-type {\n",
       "        vertical-align: middle;\n",
       "    }\n",
       "\n",
       "    .dataframe tbody tr th {\n",
       "        vertical-align: top;\n",
       "    }\n",
       "\n",
       "    .dataframe thead th {\n",
       "        text-align: right;\n",
       "    }\n",
       "</style>\n",
       "<table border=\"1\" class=\"dataframe\">\n",
       "  <thead>\n",
       "    <tr style=\"text-align: right;\">\n",
       "      <th></th>\n",
       "      <th>video_viewCount</th>\n",
       "      <th>channel_subCount</th>\n",
       "      <th>mv_masking</th>\n",
       "      <th>non_mv_marking</th>\n",
       "    </tr>\n",
       "  </thead>\n",
       "  <tbody>\n",
       "    <tr>\n",
       "      <th>0</th>\n",
       "      <td>0.051495</td>\n",
       "      <td>0.013332</td>\n",
       "      <td>0.000000</td>\n",
       "      <td>0.0</td>\n",
       "    </tr>\n",
       "    <tr>\n",
       "      <th>1</th>\n",
       "      <td>0.000221</td>\n",
       "      <td>0.001930</td>\n",
       "      <td>0.036835</td>\n",
       "      <td>0.0</td>\n",
       "    </tr>\n",
       "    <tr>\n",
       "      <th>2</th>\n",
       "      <td>0.000154</td>\n",
       "      <td>0.004454</td>\n",
       "      <td>0.000000</td>\n",
       "      <td>0.0</td>\n",
       "    </tr>\n",
       "    <tr>\n",
       "      <th>3</th>\n",
       "      <td>0.000013</td>\n",
       "      <td>0.000049</td>\n",
       "      <td>0.000000</td>\n",
       "      <td>0.0</td>\n",
       "    </tr>\n",
       "    <tr>\n",
       "      <th>4</th>\n",
       "      <td>0.000186</td>\n",
       "      <td>0.000673</td>\n",
       "      <td>0.000000</td>\n",
       "      <td>0.0</td>\n",
       "    </tr>\n",
       "  </tbody>\n",
       "</table>\n",
       "</div>"
      ],
      "text/plain": [
       "   video_viewCount  channel_subCount  mv_masking  non_mv_marking\n",
       "0         0.051495          0.013332    0.000000             0.0\n",
       "1         0.000221          0.001930    0.036835             0.0\n",
       "2         0.000154          0.004454    0.000000             0.0\n",
       "3         0.000013          0.000049    0.000000             0.0\n",
       "4         0.000186          0.000673    0.000000             0.0"
      ]
     },
     "execution_count": 180,
     "metadata": {},
     "output_type": "execute_result"
    }
   ],
   "source": [
    "sub_training_df.head()"
   ]
  },
  {
   "cell_type": "code",
   "execution_count": 181,
   "metadata": {},
   "outputs": [
    {
     "data": {
      "text/plain": [
       "(3933, 4)"
      ]
     },
     "execution_count": 181,
     "metadata": {},
     "output_type": "execute_result"
    }
   ],
   "source": [
    "sub_training_df.shape"
   ]
  },
  {
   "cell_type": "code",
   "execution_count": 182,
   "metadata": {},
   "outputs": [],
   "source": [
    "training_data, validating_data, training_labels, validating_labels = train_test_split(sub_training_df,training_df['y'], test_size = 0.2,random_state = 166 )  "
   ]
  },
  {
   "cell_type": "code",
   "execution_count": 183,
   "metadata": {},
   "outputs": [],
   "source": [
    "training_labels = training_labels.astype('int')\n",
    "validating_labels = validating_labels.astype('int')"
   ]
  },
  {
   "cell_type": "code",
   "execution_count": 184,
   "metadata": {},
   "outputs": [
    {
     "data": {
      "text/html": [
       "<div>\n",
       "<style scoped>\n",
       "    .dataframe tbody tr th:only-of-type {\n",
       "        vertical-align: middle;\n",
       "    }\n",
       "\n",
       "    .dataframe tbody tr th {\n",
       "        vertical-align: top;\n",
       "    }\n",
       "\n",
       "    .dataframe thead th {\n",
       "        text-align: right;\n",
       "    }\n",
       "</style>\n",
       "<table border=\"1\" class=\"dataframe\">\n",
       "  <thead>\n",
       "    <tr style=\"text-align: right;\">\n",
       "      <th></th>\n",
       "      <th>video_viewCount</th>\n",
       "      <th>channel_subCount</th>\n",
       "      <th>mv_masking</th>\n",
       "      <th>non_mv_marking</th>\n",
       "    </tr>\n",
       "  </thead>\n",
       "  <tbody>\n",
       "    <tr>\n",
       "      <th>2819</th>\n",
       "      <td>1.438978e-06</td>\n",
       "      <td>1.136608e-06</td>\n",
       "      <td>0.000000</td>\n",
       "      <td>0.000000</td>\n",
       "    </tr>\n",
       "    <tr>\n",
       "      <th>701</th>\n",
       "      <td>1.100141e-03</td>\n",
       "      <td>3.742137e-05</td>\n",
       "      <td>0.000000</td>\n",
       "      <td>0.000000</td>\n",
       "    </tr>\n",
       "    <tr>\n",
       "      <th>3742</th>\n",
       "      <td>2.748327e-09</td>\n",
       "      <td>9.311196e-08</td>\n",
       "      <td>0.000000</td>\n",
       "      <td>0.000000</td>\n",
       "    </tr>\n",
       "    <tr>\n",
       "      <th>732</th>\n",
       "      <td>4.388277e-06</td>\n",
       "      <td>1.518688e-06</td>\n",
       "      <td>0.000000</td>\n",
       "      <td>0.000000</td>\n",
       "    </tr>\n",
       "    <tr>\n",
       "      <th>1955</th>\n",
       "      <td>1.088210e-01</td>\n",
       "      <td>2.221677e-02</td>\n",
       "      <td>0.036835</td>\n",
       "      <td>0.000000</td>\n",
       "    </tr>\n",
       "    <tr>\n",
       "      <th>1521</th>\n",
       "      <td>2.522391e-03</td>\n",
       "      <td>3.702173e-02</td>\n",
       "      <td>0.000000</td>\n",
       "      <td>0.000000</td>\n",
       "    </tr>\n",
       "    <tr>\n",
       "      <th>3900</th>\n",
       "      <td>2.222801e-05</td>\n",
       "      <td>2.804596e-05</td>\n",
       "      <td>0.000000</td>\n",
       "      <td>0.000000</td>\n",
       "    </tr>\n",
       "    <tr>\n",
       "      <th>1573</th>\n",
       "      <td>7.626045e-02</td>\n",
       "      <td>3.246200e-02</td>\n",
       "      <td>0.000000</td>\n",
       "      <td>0.000000</td>\n",
       "    </tr>\n",
       "    <tr>\n",
       "      <th>1961</th>\n",
       "      <td>6.530411e-04</td>\n",
       "      <td>3.579095e-04</td>\n",
       "      <td>0.036835</td>\n",
       "      <td>0.000000</td>\n",
       "    </tr>\n",
       "    <tr>\n",
       "      <th>3752</th>\n",
       "      <td>3.746584e-04</td>\n",
       "      <td>4.332336e-03</td>\n",
       "      <td>0.000000</td>\n",
       "      <td>0.000000</td>\n",
       "    </tr>\n",
       "    <tr>\n",
       "      <th>2477</th>\n",
       "      <td>8.336592e-08</td>\n",
       "      <td>4.071240e-06</td>\n",
       "      <td>0.000000</td>\n",
       "      <td>0.000000</td>\n",
       "    </tr>\n",
       "    <tr>\n",
       "      <th>2114</th>\n",
       "      <td>1.300875e-07</td>\n",
       "      <td>1.926454e-08</td>\n",
       "      <td>0.000000</td>\n",
       "      <td>0.000000</td>\n",
       "    </tr>\n",
       "    <tr>\n",
       "      <th>1125</th>\n",
       "      <td>2.498387e-04</td>\n",
       "      <td>3.588952e-04</td>\n",
       "      <td>0.000000</td>\n",
       "      <td>0.000000</td>\n",
       "    </tr>\n",
       "    <tr>\n",
       "      <th>2745</th>\n",
       "      <td>2.713973e-08</td>\n",
       "      <td>2.067728e-06</td>\n",
       "      <td>0.000000</td>\n",
       "      <td>0.000000</td>\n",
       "    </tr>\n",
       "    <tr>\n",
       "      <th>1445</th>\n",
       "      <td>3.147373e-05</td>\n",
       "      <td>2.035941e-05</td>\n",
       "      <td>0.000000</td>\n",
       "      <td>0.000000</td>\n",
       "    </tr>\n",
       "    <tr>\n",
       "      <th>3289</th>\n",
       "      <td>3.308601e-04</td>\n",
       "      <td>4.855513e-02</td>\n",
       "      <td>0.000000</td>\n",
       "      <td>0.074744</td>\n",
       "    </tr>\n",
       "    <tr>\n",
       "      <th>3793</th>\n",
       "      <td>2.571956e-04</td>\n",
       "      <td>0.000000e+00</td>\n",
       "      <td>0.000000</td>\n",
       "      <td>0.000000</td>\n",
       "    </tr>\n",
       "    <tr>\n",
       "      <th>228</th>\n",
       "      <td>4.181614e-04</td>\n",
       "      <td>2.453243e-04</td>\n",
       "      <td>0.000000</td>\n",
       "      <td>0.000000</td>\n",
       "    </tr>\n",
       "    <tr>\n",
       "      <th>1534</th>\n",
       "      <td>4.371564e-04</td>\n",
       "      <td>1.120037e-03</td>\n",
       "      <td>0.036835</td>\n",
       "      <td>0.000000</td>\n",
       "    </tr>\n",
       "    <tr>\n",
       "      <th>2058</th>\n",
       "      <td>1.172734e-06</td>\n",
       "      <td>1.615126e-03</td>\n",
       "      <td>0.000000</td>\n",
       "      <td>0.000000</td>\n",
       "    </tr>\n",
       "    <tr>\n",
       "      <th>2825</th>\n",
       "      <td>9.691289e-07</td>\n",
       "      <td>7.892041e-06</td>\n",
       "      <td>0.000000</td>\n",
       "      <td>0.000000</td>\n",
       "    </tr>\n",
       "    <tr>\n",
       "      <th>2382</th>\n",
       "      <td>4.669064e-06</td>\n",
       "      <td>4.587048e-04</td>\n",
       "      <td>0.000000</td>\n",
       "      <td>0.000000</td>\n",
       "    </tr>\n",
       "    <tr>\n",
       "      <th>1470</th>\n",
       "      <td>9.053871e-04</td>\n",
       "      <td>5.300960e-05</td>\n",
       "      <td>0.000000</td>\n",
       "      <td>0.000000</td>\n",
       "    </tr>\n",
       "    <tr>\n",
       "      <th>3590</th>\n",
       "      <td>1.993980e-05</td>\n",
       "      <td>7.423624e-04</td>\n",
       "      <td>0.000000</td>\n",
       "      <td>0.000000</td>\n",
       "    </tr>\n",
       "    <tr>\n",
       "      <th>1941</th>\n",
       "      <td>1.404060e-03</td>\n",
       "      <td>2.144079e-03</td>\n",
       "      <td>0.000000</td>\n",
       "      <td>0.000000</td>\n",
       "    </tr>\n",
       "    <tr>\n",
       "      <th>34</th>\n",
       "      <td>9.607802e-03</td>\n",
       "      <td>6.869098e-02</td>\n",
       "      <td>0.000000</td>\n",
       "      <td>0.000000</td>\n",
       "    </tr>\n",
       "    <tr>\n",
       "      <th>925</th>\n",
       "      <td>2.929618e-04</td>\n",
       "      <td>6.341888e-05</td>\n",
       "      <td>0.000000</td>\n",
       "      <td>0.000000</td>\n",
       "    </tr>\n",
       "    <tr>\n",
       "      <th>1731</th>\n",
       "      <td>2.811310e-07</td>\n",
       "      <td>3.043798e-06</td>\n",
       "      <td>0.000000</td>\n",
       "      <td>0.000000</td>\n",
       "    </tr>\n",
       "    <tr>\n",
       "      <th>2948</th>\n",
       "      <td>2.851389e-08</td>\n",
       "      <td>3.493304e-06</td>\n",
       "      <td>0.000000</td>\n",
       "      <td>0.000000</td>\n",
       "    </tr>\n",
       "    <tr>\n",
       "      <th>1238</th>\n",
       "      <td>3.437885e-04</td>\n",
       "      <td>4.974362e-04</td>\n",
       "      <td>0.000000</td>\n",
       "      <td>0.000000</td>\n",
       "    </tr>\n",
       "    <tr>\n",
       "      <th>...</th>\n",
       "      <td>...</td>\n",
       "      <td>...</td>\n",
       "      <td>...</td>\n",
       "      <td>...</td>\n",
       "    </tr>\n",
       "    <tr>\n",
       "      <th>3196</th>\n",
       "      <td>2.797568e-07</td>\n",
       "      <td>1.306778e-06</td>\n",
       "      <td>0.000000</td>\n",
       "      <td>0.000000</td>\n",
       "    </tr>\n",
       "    <tr>\n",
       "      <th>242</th>\n",
       "      <td>4.717207e-03</td>\n",
       "      <td>1.622739e-03</td>\n",
       "      <td>0.036835</td>\n",
       "      <td>0.000000</td>\n",
       "    </tr>\n",
       "    <tr>\n",
       "      <th>3641</th>\n",
       "      <td>5.782938e-08</td>\n",
       "      <td>1.606310e-04</td>\n",
       "      <td>0.000000</td>\n",
       "      <td>0.000000</td>\n",
       "    </tr>\n",
       "    <tr>\n",
       "      <th>1820</th>\n",
       "      <td>1.501127e-04</td>\n",
       "      <td>2.338411e-03</td>\n",
       "      <td>0.036835</td>\n",
       "      <td>0.000000</td>\n",
       "    </tr>\n",
       "    <tr>\n",
       "      <th>2862</th>\n",
       "      <td>2.589153e-07</td>\n",
       "      <td>9.362568e-06</td>\n",
       "      <td>0.000000</td>\n",
       "      <td>0.000000</td>\n",
       "    </tr>\n",
       "    <tr>\n",
       "      <th>2987</th>\n",
       "      <td>5.267627e-08</td>\n",
       "      <td>6.100439e-08</td>\n",
       "      <td>0.000000</td>\n",
       "      <td>0.000000</td>\n",
       "    </tr>\n",
       "    <tr>\n",
       "      <th>549</th>\n",
       "      <td>8.712770e-06</td>\n",
       "      <td>4.211069e-04</td>\n",
       "      <td>0.000000</td>\n",
       "      <td>0.000000</td>\n",
       "    </tr>\n",
       "    <tr>\n",
       "      <th>1170</th>\n",
       "      <td>4.626094e-04</td>\n",
       "      <td>1.246737e-05</td>\n",
       "      <td>0.036835</td>\n",
       "      <td>0.000000</td>\n",
       "    </tr>\n",
       "    <tr>\n",
       "      <th>3625</th>\n",
       "      <td>5.290530e-07</td>\n",
       "      <td>1.756605e-05</td>\n",
       "      <td>0.000000</td>\n",
       "      <td>0.000000</td>\n",
       "    </tr>\n",
       "    <tr>\n",
       "      <th>2540</th>\n",
       "      <td>1.038410e-06</td>\n",
       "      <td>1.040285e-05</td>\n",
       "      <td>0.000000</td>\n",
       "      <td>0.000000</td>\n",
       "    </tr>\n",
       "    <tr>\n",
       "      <th>0</th>\n",
       "      <td>5.149453e-02</td>\n",
       "      <td>1.333197e-02</td>\n",
       "      <td>0.000000</td>\n",
       "      <td>0.000000</td>\n",
       "    </tr>\n",
       "    <tr>\n",
       "      <th>2427</th>\n",
       "      <td>2.717867e-06</td>\n",
       "      <td>1.389295e-05</td>\n",
       "      <td>0.000000</td>\n",
       "      <td>0.000000</td>\n",
       "    </tr>\n",
       "    <tr>\n",
       "      <th>3195</th>\n",
       "      <td>4.967601e-07</td>\n",
       "      <td>7.962678e-06</td>\n",
       "      <td>0.000000</td>\n",
       "      <td>0.000000</td>\n",
       "    </tr>\n",
       "    <tr>\n",
       "      <th>1597</th>\n",
       "      <td>2.457451e-05</td>\n",
       "      <td>4.713392e-06</td>\n",
       "      <td>0.000000</td>\n",
       "      <td>0.000000</td>\n",
       "    </tr>\n",
       "    <tr>\n",
       "      <th>2960</th>\n",
       "      <td>5.563301e-06</td>\n",
       "      <td>3.522811e-04</td>\n",
       "      <td>0.000000</td>\n",
       "      <td>0.000000</td>\n",
       "    </tr>\n",
       "    <tr>\n",
       "      <th>2432</th>\n",
       "      <td>4.440839e-07</td>\n",
       "      <td>1.637486e-07</td>\n",
       "      <td>0.000000</td>\n",
       "      <td>0.000000</td>\n",
       "    </tr>\n",
       "    <tr>\n",
       "      <th>3887</th>\n",
       "      <td>8.141919e-08</td>\n",
       "      <td>1.350830e-04</td>\n",
       "      <td>0.000000</td>\n",
       "      <td>0.000000</td>\n",
       "    </tr>\n",
       "    <tr>\n",
       "      <th>3545</th>\n",
       "      <td>1.098758e-06</td>\n",
       "      <td>9.108918e-06</td>\n",
       "      <td>0.000000</td>\n",
       "      <td>0.000000</td>\n",
       "    </tr>\n",
       "    <tr>\n",
       "      <th>1218</th>\n",
       "      <td>5.474977e-05</td>\n",
       "      <td>3.203164e-03</td>\n",
       "      <td>0.000000</td>\n",
       "      <td>0.000000</td>\n",
       "    </tr>\n",
       "    <tr>\n",
       "      <th>395</th>\n",
       "      <td>2.174384e-02</td>\n",
       "      <td>4.838160e-02</td>\n",
       "      <td>0.036835</td>\n",
       "      <td>0.000000</td>\n",
       "    </tr>\n",
       "    <tr>\n",
       "      <th>3622</th>\n",
       "      <td>7.925488e-07</td>\n",
       "      <td>1.474059e-05</td>\n",
       "      <td>0.000000</td>\n",
       "      <td>0.000000</td>\n",
       "    </tr>\n",
       "    <tr>\n",
       "      <th>2385</th>\n",
       "      <td>3.537005e-05</td>\n",
       "      <td>1.227408e-04</td>\n",
       "      <td>0.000000</td>\n",
       "      <td>0.000000</td>\n",
       "    </tr>\n",
       "    <tr>\n",
       "      <th>3273</th>\n",
       "      <td>1.251771e-05</td>\n",
       "      <td>2.628968e-05</td>\n",
       "      <td>0.000000</td>\n",
       "      <td>0.000000</td>\n",
       "    </tr>\n",
       "    <tr>\n",
       "      <th>2436</th>\n",
       "      <td>2.679619e-08</td>\n",
       "      <td>6.646267e-07</td>\n",
       "      <td>0.000000</td>\n",
       "      <td>0.000000</td>\n",
       "    </tr>\n",
       "    <tr>\n",
       "      <th>591</th>\n",
       "      <td>3.761448e-02</td>\n",
       "      <td>4.394434e-02</td>\n",
       "      <td>0.000000</td>\n",
       "      <td>0.000000</td>\n",
       "    </tr>\n",
       "    <tr>\n",
       "      <th>2646</th>\n",
       "      <td>2.743403e-06</td>\n",
       "      <td>4.147271e-04</td>\n",
       "      <td>0.000000</td>\n",
       "      <td>0.074744</td>\n",
       "    </tr>\n",
       "    <tr>\n",
       "      <th>3179</th>\n",
       "      <td>2.474332e-04</td>\n",
       "      <td>1.854293e-03</td>\n",
       "      <td>0.000000</td>\n",
       "      <td>0.074744</td>\n",
       "    </tr>\n",
       "    <tr>\n",
       "      <th>3682</th>\n",
       "      <td>2.290273e-08</td>\n",
       "      <td>1.155873e-07</td>\n",
       "      <td>0.000000</td>\n",
       "      <td>0.000000</td>\n",
       "    </tr>\n",
       "    <tr>\n",
       "      <th>313</th>\n",
       "      <td>5.673467e-04</td>\n",
       "      <td>2.890577e-03</td>\n",
       "      <td>0.000000</td>\n",
       "      <td>0.000000</td>\n",
       "    </tr>\n",
       "    <tr>\n",
       "      <th>5</th>\n",
       "      <td>1.379808e-04</td>\n",
       "      <td>2.213335e-04</td>\n",
       "      <td>0.000000</td>\n",
       "      <td>0.000000</td>\n",
       "    </tr>\n",
       "  </tbody>\n",
       "</table>\n",
       "<p>3146 rows × 4 columns</p>\n",
       "</div>"
      ],
      "text/plain": [
       "      video_viewCount  channel_subCount  mv_masking  non_mv_marking\n",
       "2819     1.438978e-06      1.136608e-06    0.000000        0.000000\n",
       "701      1.100141e-03      3.742137e-05    0.000000        0.000000\n",
       "3742     2.748327e-09      9.311196e-08    0.000000        0.000000\n",
       "732      4.388277e-06      1.518688e-06    0.000000        0.000000\n",
       "1955     1.088210e-01      2.221677e-02    0.036835        0.000000\n",
       "1521     2.522391e-03      3.702173e-02    0.000000        0.000000\n",
       "3900     2.222801e-05      2.804596e-05    0.000000        0.000000\n",
       "1573     7.626045e-02      3.246200e-02    0.000000        0.000000\n",
       "1961     6.530411e-04      3.579095e-04    0.036835        0.000000\n",
       "3752     3.746584e-04      4.332336e-03    0.000000        0.000000\n",
       "2477     8.336592e-08      4.071240e-06    0.000000        0.000000\n",
       "2114     1.300875e-07      1.926454e-08    0.000000        0.000000\n",
       "1125     2.498387e-04      3.588952e-04    0.000000        0.000000\n",
       "2745     2.713973e-08      2.067728e-06    0.000000        0.000000\n",
       "1445     3.147373e-05      2.035941e-05    0.000000        0.000000\n",
       "3289     3.308601e-04      4.855513e-02    0.000000        0.074744\n",
       "3793     2.571956e-04      0.000000e+00    0.000000        0.000000\n",
       "228      4.181614e-04      2.453243e-04    0.000000        0.000000\n",
       "1534     4.371564e-04      1.120037e-03    0.036835        0.000000\n",
       "2058     1.172734e-06      1.615126e-03    0.000000        0.000000\n",
       "2825     9.691289e-07      7.892041e-06    0.000000        0.000000\n",
       "2382     4.669064e-06      4.587048e-04    0.000000        0.000000\n",
       "1470     9.053871e-04      5.300960e-05    0.000000        0.000000\n",
       "3590     1.993980e-05      7.423624e-04    0.000000        0.000000\n",
       "1941     1.404060e-03      2.144079e-03    0.000000        0.000000\n",
       "34       9.607802e-03      6.869098e-02    0.000000        0.000000\n",
       "925      2.929618e-04      6.341888e-05    0.000000        0.000000\n",
       "1731     2.811310e-07      3.043798e-06    0.000000        0.000000\n",
       "2948     2.851389e-08      3.493304e-06    0.000000        0.000000\n",
       "1238     3.437885e-04      4.974362e-04    0.000000        0.000000\n",
       "...               ...               ...         ...             ...\n",
       "3196     2.797568e-07      1.306778e-06    0.000000        0.000000\n",
       "242      4.717207e-03      1.622739e-03    0.036835        0.000000\n",
       "3641     5.782938e-08      1.606310e-04    0.000000        0.000000\n",
       "1820     1.501127e-04      2.338411e-03    0.036835        0.000000\n",
       "2862     2.589153e-07      9.362568e-06    0.000000        0.000000\n",
       "2987     5.267627e-08      6.100439e-08    0.000000        0.000000\n",
       "549      8.712770e-06      4.211069e-04    0.000000        0.000000\n",
       "1170     4.626094e-04      1.246737e-05    0.036835        0.000000\n",
       "3625     5.290530e-07      1.756605e-05    0.000000        0.000000\n",
       "2540     1.038410e-06      1.040285e-05    0.000000        0.000000\n",
       "0        5.149453e-02      1.333197e-02    0.000000        0.000000\n",
       "2427     2.717867e-06      1.389295e-05    0.000000        0.000000\n",
       "3195     4.967601e-07      7.962678e-06    0.000000        0.000000\n",
       "1597     2.457451e-05      4.713392e-06    0.000000        0.000000\n",
       "2960     5.563301e-06      3.522811e-04    0.000000        0.000000\n",
       "2432     4.440839e-07      1.637486e-07    0.000000        0.000000\n",
       "3887     8.141919e-08      1.350830e-04    0.000000        0.000000\n",
       "3545     1.098758e-06      9.108918e-06    0.000000        0.000000\n",
       "1218     5.474977e-05      3.203164e-03    0.000000        0.000000\n",
       "395      2.174384e-02      4.838160e-02    0.036835        0.000000\n",
       "3622     7.925488e-07      1.474059e-05    0.000000        0.000000\n",
       "2385     3.537005e-05      1.227408e-04    0.000000        0.000000\n",
       "3273     1.251771e-05      2.628968e-05    0.000000        0.000000\n",
       "2436     2.679619e-08      6.646267e-07    0.000000        0.000000\n",
       "591      3.761448e-02      4.394434e-02    0.000000        0.000000\n",
       "2646     2.743403e-06      4.147271e-04    0.000000        0.074744\n",
       "3179     2.474332e-04      1.854293e-03    0.000000        0.074744\n",
       "3682     2.290273e-08      1.155873e-07    0.000000        0.000000\n",
       "313      5.673467e-04      2.890577e-03    0.000000        0.000000\n",
       "5        1.379808e-04      2.213335e-04    0.000000        0.000000\n",
       "\n",
       "[3146 rows x 4 columns]"
      ]
     },
     "execution_count": 184,
     "metadata": {},
     "output_type": "execute_result"
    }
   ],
   "source": [
    "training_data"
   ]
  },
  {
   "cell_type": "code",
   "execution_count": 211,
   "metadata": {},
   "outputs": [],
   "source": [
    "#assert(len(training_data) == len(training_labels))\n",
    "def best_k():\n",
    "    accuracy = []\n",
    "    k_list = []\n",
    "    for k in range(1,100):\n",
    "        classifier = KNeighborsClassifier(n_neighbors = k, weights = 'distance')\n",
    "        classifier.fit(training_data, training_labels)\n",
    "        a = classifier.score(validating_data, validating_labels)\n",
    "        accuracy.append(a)\n",
    "        k_list.append(k)\n",
    "    return accuracy, k_list, np.argmax(accuracy)"
   ]
  },
  {
   "cell_type": "code",
   "execution_count": 212,
   "metadata": {},
   "outputs": [],
   "source": [
    "accuracy, k_list,idx_max = best_k()"
   ]
  },
  {
   "cell_type": "code",
   "execution_count": 213,
   "metadata": {},
   "outputs": [
    {
     "data": {
      "text/plain": [
       "0.8614993646759848"
      ]
     },
     "execution_count": 213,
     "metadata": {},
     "output_type": "execute_result"
    }
   ],
   "source": [
    "max(accuracy)"
   ]
  },
  {
   "cell_type": "code",
   "execution_count": 214,
   "metadata": {},
   "outputs": [
    {
     "data": {
      "text/plain": [
       "44"
      ]
     },
     "execution_count": 214,
     "metadata": {},
     "output_type": "execute_result"
    }
   ],
   "source": [
    "idx_max"
   ]
  },
  {
   "cell_type": "code",
   "execution_count": 189,
   "metadata": {},
   "outputs": [],
   "source": [
    "import matplotlib.pyplot as plt"
   ]
  },
  {
   "cell_type": "code",
   "execution_count": 190,
   "metadata": {},
   "outputs": [
    {
     "data": {
      "image/png": "[encoded data removed]",
      "text/plain": [
       "<Figure size 432x288 with 1 Axes>"
      ]
     },
     "metadata": {},
     "output_type": "display_data"
    }
   ],
   "source": [
    "plt.plot(k_list, accuracy)\n",
    "plt.show()"
   ]
  },
  {
   "cell_type": "code",
   "execution_count": 215,
   "metadata": {},
   "outputs": [],
   "source": [
    "classifier = KNeighborsClassifier(n_neighbors = 44, weights = 'distance')"
   ]
  },
  {
   "cell_type": "code",
   "execution_count": 216,
   "metadata": {},
   "outputs": [
    {
     "data": {
      "text/plain": [
       "KNeighborsClassifier(algorithm='auto', leaf_size=30, metric='minkowski',\n",
       "           metric_params=None, n_jobs=1, n_neighbors=44, p=2,\n",
       "           weights='distance')"
      ]
     },
     "execution_count": 216,
     "metadata": {},
     "output_type": "execute_result"
    }
   ],
   "source": [
    "classifier.fit(training_data, training_labels)"
   ]
  },
  {
   "cell_type": "code",
   "execution_count": 320,
   "metadata": {},
   "outputs": [],
   "source": [
    "test_data = np.array([4.371564e-04, 1.120037e-03, 1,0])"
   ]
  },
  {
   "cell_type": "code",
   "execution_count": 321,
   "metadata": {
    "scrolled": true
   },
   "outputs": [
    {
     "data": {
      "text/plain": [
       "array([[0., 1.]])"
      ]
     },
     "execution_count": 321,
     "metadata": {},
     "output_type": "execute_result"
    }
   ],
   "source": [
    "classifier.predict_proba(test_data.reshape(1, -1))"
   ]
  },
  {
   "cell_type": "code",
   "execution_count": 322,
   "metadata": {},
   "outputs": [
    {
     "data": {
      "text/plain": [
       "0.8602287166454892"
      ]
     },
     "execution_count": 322,
     "metadata": {},
     "output_type": "execute_result"
    }
   ],
   "source": [
    "classifier.score(validating_data, validating_labels)"
   ]
  },
  {
   "cell_type": "code",
   "execution_count": 229,
   "metadata": {},
   "outputs": [],
   "source": [
    "import pickle"
   ]
  },
  {
   "cell_type": "code",
   "execution_count": 262,
   "metadata": {},
   "outputs": [],
   "source": [
    "filename = 'K_nearest_trained_model.sav'\n",
    "pickle.dump((classifier,data_normalized[1]), open(filename, 'wb'))"
   ]
  },
  {
   "cell_type": "code",
   "execution_count": 263,
   "metadata": {},
   "outputs": [],
   "source": [
    "##test load pickle\n",
    "loaded_model, normalized_attributes = pickle.load(open(filename, 'rb'))\n",
    "result = loaded_model.score(validating_data, validating_labels)"
   ]
  },
  {
   "cell_type": "code",
   "execution_count": 264,
   "metadata": {},
   "outputs": [
    {
     "data": {
      "text/plain": [
       "0.8602287166454892"
      ]
     },
     "execution_count": 264,
     "metadata": {},
     "output_type": "execute_result"
    }
   ],
   "source": [
    "result"
   ]
  },
  {
   "cell_type": "code",
   "execution_count": 265,
   "metadata": {},
   "outputs": [
    {
     "data": {
      "text/plain": [
       "array([8.73258484e+09, 3.11453014e+08, 2.71477439e+01, 1.33790882e+01])"
      ]
     },
     "execution_count": 265,
     "metadata": {},
     "output_type": "execute_result"
    }
   ],
   "source": [
    "normalized_attributes"
   ]
  },
  {
   "cell_type": "code",
   "execution_count": 312,
   "metadata": {},
   "outputs": [],
   "source": [
    "test_data = np.array([787275470, 1300000, 1, 0 ])"
   ]
  },
  {
   "cell_type": "code",
   "execution_count": 313,
   "metadata": {},
   "outputs": [],
   "source": [
    "test_data = test_data/data_normalized[1]"
   ]
  },
  {
   "cell_type": "code",
   "execution_count": 323,
   "metadata": {},
   "outputs": [
    {
     "data": {
      "text/plain": [
       "array([1])"
      ]
     },
     "execution_count": 323,
     "metadata": {},
     "output_type": "execute_result"
    }
   ],
   "source": [
    "loaded_model.predict(test_data.reshape(1, -1))"
   ]
  },
  {
   "cell_type": "code",
   "execution_count": 269,
   "metadata": {},
   "outputs": [],
   "source": [
    "### this part testing model using decision tree\n",
    "from sklearn.tree import DecisionTreeClassifier\n",
    "tree_classifier = DecisionTreeClassifier()"
   ]
  },
  {
   "cell_type": "code",
   "execution_count": 270,
   "metadata": {},
   "outputs": [
    {
     "data": {
      "text/plain": [
       "DecisionTreeClassifier(class_weight=None, criterion='gini', max_depth=None,\n",
       "            max_features=None, max_leaf_nodes=None,\n",
       "            min_impurity_decrease=0.0, min_impurity_split=None,\n",
       "            min_samples_leaf=1, min_samples_split=2,\n",
       "            min_weight_fraction_leaf=0.0, presort=False, random_state=None,\n",
       "            splitter='best')"
      ]
     },
     "execution_count": 270,
     "metadata": {},
     "output_type": "execute_result"
    }
   ],
   "source": [
    "tree_classifier.fit(training_data, training_labels)"
   ]
  },
  {
   "cell_type": "code",
   "execution_count": 324,
   "metadata": {},
   "outputs": [
    {
     "data": {
      "text/plain": [
       "array([1])"
      ]
     },
     "execution_count": 324,
     "metadata": {},
     "output_type": "execute_result"
    }
   ],
   "source": [
    "tree_classifier.predict(test_data.reshape(1, -1))"
   ]
  },
  {
   "cell_type": "code",
   "execution_count": 333,
   "metadata": {},
   "outputs": [],
   "source": [
    "single_tree = 'DecisionTree_trained_model.sav'\n",
    "pickle.dump(tree_classifier, open(single_tree, 'wb'))"
   ]
  },
  {
   "cell_type": "code",
   "execution_count": 326,
   "metadata": {},
   "outputs": [],
   "source": [
    "### this part testing model using random forest\n",
    "from sklearn.ensemble import RandomForestClassifier\n",
    "forest_classifier = RandomForestClassifier(max_features = 3)\n"
   ]
  },
  {
   "cell_type": "code",
   "execution_count": 327,
   "metadata": {},
   "outputs": [
    {
     "data": {
      "text/plain": [
       "RandomForestClassifier(bootstrap=True, class_weight=None, criterion='gini',\n",
       "            max_depth=None, max_features=3, max_leaf_nodes=None,\n",
       "            min_impurity_decrease=0.0, min_impurity_split=None,\n",
       "            min_samples_leaf=1, min_samples_split=2,\n",
       "            min_weight_fraction_leaf=0.0, n_estimators=10, n_jobs=1,\n",
       "            oob_score=False, random_state=None, verbose=0,\n",
       "            warm_start=False)"
      ]
     },
     "execution_count": 327,
     "metadata": {},
     "output_type": "execute_result"
    }
   ],
   "source": [
    "forest_classifier.fit(training_data, training_labels)"
   ]
  },
  {
   "cell_type": "code",
   "execution_count": 331,
   "metadata": {},
   "outputs": [
    {
     "data": {
      "text/plain": [
       "array([1])"
      ]
     },
     "execution_count": 331,
     "metadata": {},
     "output_type": "execute_result"
    }
   ],
   "source": [
    "forest_classifier.predict(test_data.reshape(1, -1))"
   ]
  },
  {
   "cell_type": "code",
   "execution_count": 332,
   "metadata": {},
   "outputs": [
    {
     "data": {
      "text/plain": [
       "0.8500635324015248"
      ]
     },
     "execution_count": 332,
     "metadata": {},
     "output_type": "execute_result"
    }
   ],
   "source": [
    "forest_classifier.score(validating_data, validating_labels)"
   ]
  },
  {
   "cell_type": "code",
   "execution_count": 334,
   "metadata": {},
   "outputs": [],
   "source": [
    "forest = 'RandomForest_trained_model.sav'\n",
    "pickle.dump(forest_classifier, open(forest, 'wb'))"
   ]
  }
 ],
 "metadata": {
  "kernelspec": {
   "display_name": "Python 3",
   "language": "python",
   "name": "python3"
  },
  "language_info": {
   "codemirror_mode": {
    "name": "ipython",
    "version": 3
   },
   "file_extension": ".py",
   "mimetype": "text/x-python",
   "name": "python",
   "nbconvert_exporter": "python",
   "pygments_lexer": "ipython3",
   "version": "3.6.5"
  }
 },
 "nbformat": 4,
 "nbformat_minor": 2
}
